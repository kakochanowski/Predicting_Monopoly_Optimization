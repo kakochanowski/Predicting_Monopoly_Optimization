{
 "cells": [
  {
   "cell_type": "code",
   "execution_count": 9,
   "id": "4f34deee-f621-424b-94cd-08acd963c1f5",
   "metadata": {},
   "outputs": [],
   "source": [
    "library(ggplot2)"
   ]
  },
  {
   "cell_type": "code",
   "execution_count": 50,
   "id": "dd13076c-0f0a-47f4-9718-e874ec82fc93",
   "metadata": {},
   "outputs": [
    {
     "data": {
      "text/html": [
       "<table class=\"dataframe\">\n",
       "<caption>A data.frame: 4 × 5</caption>\n",
       "<thead>\n",
       "\t<tr><th scope=col>X</th><th scope=col>T1_80</th><th scope=col>T1_90</th><th scope=col>T1_95</th><th scope=col>method</th></tr>\n",
       "\t<tr><th scope=col>&lt;chr&gt;</th><th scope=col>&lt;dbl&gt;</th><th scope=col>&lt;dbl&gt;</th><th scope=col>&lt;dbl&gt;</th><th scope=col>&lt;chr&gt;</th></tr>\n",
       "</thead>\n",
       "<tbody>\n",
       "\t<tr><td>intercept     </td><td>0.198</td><td>0.102</td><td>0.045</td><td>delta</td></tr>\n",
       "\t<tr><td>b0            </td><td>0.204</td><td>0.105</td><td>0.053</td><td>delta</td></tr>\n",
       "\t<tr><td>b1            </td><td>0.206</td><td>0.109</td><td>0.056</td><td>delta</td></tr>\n",
       "\t<tr><td>transformation</td><td>0.217</td><td>0.116</td><td>0.059</td><td>delta</td></tr>\n",
       "</tbody>\n",
       "</table>\n"
      ],
      "text/latex": [
       "A data.frame: 4 × 5\n",
       "\\begin{tabular}{lllll}\n",
       " X & T1\\_80 & T1\\_90 & T1\\_95 & method\\\\\n",
       " <chr> & <dbl> & <dbl> & <dbl> & <chr>\\\\\n",
       "\\hline\n",
       "\t intercept      & 0.198 & 0.102 & 0.045 & delta\\\\\n",
       "\t b0             & 0.204 & 0.105 & 0.053 & delta\\\\\n",
       "\t b1             & 0.206 & 0.109 & 0.056 & delta\\\\\n",
       "\t transformation & 0.217 & 0.116 & 0.059 & delta\\\\\n",
       "\\end{tabular}\n"
      ],
      "text/markdown": [
       "\n",
       "A data.frame: 4 × 5\n",
       "\n",
       "| X &lt;chr&gt; | T1_80 &lt;dbl&gt; | T1_90 &lt;dbl&gt; | T1_95 &lt;dbl&gt; | method &lt;chr&gt; |\n",
       "|---|---|---|---|---|\n",
       "| intercept      | 0.198 | 0.102 | 0.045 | delta |\n",
       "| b0             | 0.204 | 0.105 | 0.053 | delta |\n",
       "| b1             | 0.206 | 0.109 | 0.056 | delta |\n",
       "| transformation | 0.217 | 0.116 | 0.059 | delta |\n",
       "\n"
      ],
      "text/plain": [
       "  X              T1_80 T1_90 T1_95 method\n",
       "1 intercept      0.198 0.102 0.045 delta \n",
       "2 b0             0.204 0.105 0.053 delta \n",
       "3 b1             0.206 0.109 0.056 delta \n",
       "4 transformation 0.217 0.116 0.059 delta "
      ]
     },
     "metadata": {},
     "output_type": "display_data"
    }
   ],
   "source": [
    "delta_50 <- read.csv(\"delta_50.csv\")\n",
    "delta_50$method <- \"delta\"\n",
    "delta_50"
   ]
  },
  {
   "cell_type": "code",
   "execution_count": 51,
   "id": "f44661e3-1128-4591-b3a6-be11981e871d",
   "metadata": {},
   "outputs": [
    {
     "data": {
      "text/html": [
       "<table class=\"dataframe\">\n",
       "<caption>A data.frame: 4 × 5</caption>\n",
       "<thead>\n",
       "\t<tr><th scope=col>X</th><th scope=col>T1_80</th><th scope=col>T1_90</th><th scope=col>T1_95</th><th scope=col>method</th></tr>\n",
       "\t<tr><th scope=col>&lt;chr&gt;</th><th scope=col>&lt;dbl&gt;</th><th scope=col>&lt;dbl&gt;</th><th scope=col>&lt;dbl&gt;</th><th scope=col>&lt;chr&gt;</th></tr>\n",
       "</thead>\n",
       "<tbody>\n",
       "\t<tr><td>intercept     </td><td>0.213</td><td>0.106</td><td>0.054</td><td>delta</td></tr>\n",
       "\t<tr><td>b0            </td><td>0.195</td><td>0.088</td><td>0.038</td><td>delta</td></tr>\n",
       "\t<tr><td>b1            </td><td>0.225</td><td>0.105</td><td>0.060</td><td>delta</td></tr>\n",
       "\t<tr><td>transformation</td><td>0.190</td><td>0.096</td><td>0.057</td><td>delta</td></tr>\n",
       "</tbody>\n",
       "</table>\n"
      ],
      "text/latex": [
       "A data.frame: 4 × 5\n",
       "\\begin{tabular}{lllll}\n",
       " X & T1\\_80 & T1\\_90 & T1\\_95 & method\\\\\n",
       " <chr> & <dbl> & <dbl> & <dbl> & <chr>\\\\\n",
       "\\hline\n",
       "\t intercept      & 0.213 & 0.106 & 0.054 & delta\\\\\n",
       "\t b0             & 0.195 & 0.088 & 0.038 & delta\\\\\n",
       "\t b1             & 0.225 & 0.105 & 0.060 & delta\\\\\n",
       "\t transformation & 0.190 & 0.096 & 0.057 & delta\\\\\n",
       "\\end{tabular}\n"
      ],
      "text/markdown": [
       "\n",
       "A data.frame: 4 × 5\n",
       "\n",
       "| X &lt;chr&gt; | T1_80 &lt;dbl&gt; | T1_90 &lt;dbl&gt; | T1_95 &lt;dbl&gt; | method &lt;chr&gt; |\n",
       "|---|---|---|---|---|\n",
       "| intercept      | 0.213 | 0.106 | 0.054 | delta |\n",
       "| b0             | 0.195 | 0.088 | 0.038 | delta |\n",
       "| b1             | 0.225 | 0.105 | 0.060 | delta |\n",
       "| transformation | 0.190 | 0.096 | 0.057 | delta |\n",
       "\n"
      ],
      "text/plain": [
       "  X              T1_80 T1_90 T1_95 method\n",
       "1 intercept      0.213 0.106 0.054 delta \n",
       "2 b0             0.195 0.088 0.038 delta \n",
       "3 b1             0.225 0.105 0.060 delta \n",
       "4 transformation 0.190 0.096 0.057 delta "
      ]
     },
     "metadata": {},
     "output_type": "display_data"
    }
   ],
   "source": [
    "delta_100 <- read.csv(\"delta_100.csv\")\n",
    "delta_100$method <- \"delta\"\n",
    "delta_100"
   ]
  },
  {
   "cell_type": "code",
   "execution_count": 52,
   "id": "d90da5f7-30c5-4a0f-a23d-e9e79492279c",
   "metadata": {},
   "outputs": [
    {
     "data": {
      "text/html": [
       "<table class=\"dataframe\">\n",
       "<caption>A data.frame: 4 × 5</caption>\n",
       "<thead>\n",
       "\t<tr><th scope=col>X</th><th scope=col>T1_80</th><th scope=col>T1_90</th><th scope=col>T1_95</th><th scope=col>method</th></tr>\n",
       "\t<tr><th scope=col>&lt;chr&gt;</th><th scope=col>&lt;dbl&gt;</th><th scope=col>&lt;dbl&gt;</th><th scope=col>&lt;dbl&gt;</th><th scope=col>&lt;chr&gt;</th></tr>\n",
       "</thead>\n",
       "<tbody>\n",
       "\t<tr><td>intercept     </td><td>0.199</td><td>0.095</td><td>0.044</td><td>delta</td></tr>\n",
       "\t<tr><td>b0            </td><td>0.209</td><td>0.113</td><td>0.053</td><td>delta</td></tr>\n",
       "\t<tr><td>b1            </td><td>0.188</td><td>0.099</td><td>0.056</td><td>delta</td></tr>\n",
       "\t<tr><td>transformation</td><td>0.179</td><td>0.094</td><td>0.045</td><td>delta</td></tr>\n",
       "</tbody>\n",
       "</table>\n"
      ],
      "text/latex": [
       "A data.frame: 4 × 5\n",
       "\\begin{tabular}{lllll}\n",
       " X & T1\\_80 & T1\\_90 & T1\\_95 & method\\\\\n",
       " <chr> & <dbl> & <dbl> & <dbl> & <chr>\\\\\n",
       "\\hline\n",
       "\t intercept      & 0.199 & 0.095 & 0.044 & delta\\\\\n",
       "\t b0             & 0.209 & 0.113 & 0.053 & delta\\\\\n",
       "\t b1             & 0.188 & 0.099 & 0.056 & delta\\\\\n",
       "\t transformation & 0.179 & 0.094 & 0.045 & delta\\\\\n",
       "\\end{tabular}\n"
      ],
      "text/markdown": [
       "\n",
       "A data.frame: 4 × 5\n",
       "\n",
       "| X &lt;chr&gt; | T1_80 &lt;dbl&gt; | T1_90 &lt;dbl&gt; | T1_95 &lt;dbl&gt; | method &lt;chr&gt; |\n",
       "|---|---|---|---|---|\n",
       "| intercept      | 0.199 | 0.095 | 0.044 | delta |\n",
       "| b0             | 0.209 | 0.113 | 0.053 | delta |\n",
       "| b1             | 0.188 | 0.099 | 0.056 | delta |\n",
       "| transformation | 0.179 | 0.094 | 0.045 | delta |\n",
       "\n"
      ],
      "text/plain": [
       "  X              T1_80 T1_90 T1_95 method\n",
       "1 intercept      0.199 0.095 0.044 delta \n",
       "2 b0             0.209 0.113 0.053 delta \n",
       "3 b1             0.188 0.099 0.056 delta \n",
       "4 transformation 0.179 0.094 0.045 delta "
      ]
     },
     "metadata": {},
     "output_type": "display_data"
    }
   ],
   "source": [
    "delta_200 <- read.csv(\"delta_200.csv\")\n",
    "delta_200$method <- \"delta\"\n",
    "delta_200"
   ]
  },
  {
   "cell_type": "code",
   "execution_count": 53,
   "id": "0b191d34-4bdd-4cd3-9977-efa4d8b6ed0c",
   "metadata": {},
   "outputs": [
    {
     "data": {
      "text/html": [
       "<table class=\"dataframe\">\n",
       "<caption>A data.frame: 4 × 5</caption>\n",
       "<thead>\n",
       "\t<tr><th scope=col>X</th><th scope=col>T1_80</th><th scope=col>T1_90</th><th scope=col>T1_95</th><th scope=col>method</th></tr>\n",
       "\t<tr><th scope=col>&lt;chr&gt;</th><th scope=col>&lt;dbl&gt;</th><th scope=col>&lt;dbl&gt;</th><th scope=col>&lt;dbl&gt;</th><th scope=col>&lt;chr&gt;</th></tr>\n",
       "</thead>\n",
       "<tbody>\n",
       "\t<tr><td>intercept     </td><td>0.222</td><td>0.120</td><td>0.068</td><td>delta</td></tr>\n",
       "\t<tr><td>b0            </td><td>0.196</td><td>0.100</td><td>0.061</td><td>delta</td></tr>\n",
       "\t<tr><td>b1            </td><td>0.204</td><td>0.089</td><td>0.039</td><td>delta</td></tr>\n",
       "\t<tr><td>transformation</td><td>0.190</td><td>0.096</td><td>0.048</td><td>delta</td></tr>\n",
       "</tbody>\n",
       "</table>\n"
      ],
      "text/latex": [
       "A data.frame: 4 × 5\n",
       "\\begin{tabular}{lllll}\n",
       " X & T1\\_80 & T1\\_90 & T1\\_95 & method\\\\\n",
       " <chr> & <dbl> & <dbl> & <dbl> & <chr>\\\\\n",
       "\\hline\n",
       "\t intercept      & 0.222 & 0.120 & 0.068 & delta\\\\\n",
       "\t b0             & 0.196 & 0.100 & 0.061 & delta\\\\\n",
       "\t b1             & 0.204 & 0.089 & 0.039 & delta\\\\\n",
       "\t transformation & 0.190 & 0.096 & 0.048 & delta\\\\\n",
       "\\end{tabular}\n"
      ],
      "text/markdown": [
       "\n",
       "A data.frame: 4 × 5\n",
       "\n",
       "| X &lt;chr&gt; | T1_80 &lt;dbl&gt; | T1_90 &lt;dbl&gt; | T1_95 &lt;dbl&gt; | method &lt;chr&gt; |\n",
       "|---|---|---|---|---|\n",
       "| intercept      | 0.222 | 0.120 | 0.068 | delta |\n",
       "| b0             | 0.196 | 0.100 | 0.061 | delta |\n",
       "| b1             | 0.204 | 0.089 | 0.039 | delta |\n",
       "| transformation | 0.190 | 0.096 | 0.048 | delta |\n",
       "\n"
      ],
      "text/plain": [
       "  X              T1_80 T1_90 T1_95 method\n",
       "1 intercept      0.222 0.120 0.068 delta \n",
       "2 b0             0.196 0.100 0.061 delta \n",
       "3 b1             0.204 0.089 0.039 delta \n",
       "4 transformation 0.190 0.096 0.048 delta "
      ]
     },
     "metadata": {},
     "output_type": "display_data"
    }
   ],
   "source": [
    "delta_400 <- read.csv(\"delta_400.csv\")\n",
    "delta_400$method <- \"delta\"\n",
    "delta_400"
   ]
  },
  {
   "cell_type": "code",
   "execution_count": 54,
   "id": "f0c75697-a0ac-4cf1-8f52-2be31486692b",
   "metadata": {},
   "outputs": [
    {
     "data": {
      "text/html": [
       "<table class=\"dataframe\">\n",
       "<caption>A data.frame: 4 × 5</caption>\n",
       "<thead>\n",
       "\t<tr><th scope=col>X</th><th scope=col>T1_80</th><th scope=col>T1_90</th><th scope=col>T1_95</th><th scope=col>method</th></tr>\n",
       "\t<tr><th scope=col>&lt;chr&gt;</th><th scope=col>&lt;dbl&gt;</th><th scope=col>&lt;dbl&gt;</th><th scope=col>&lt;dbl&gt;</th><th scope=col>&lt;chr&gt;</th></tr>\n",
       "</thead>\n",
       "<tbody>\n",
       "\t<tr><td>intercept     </td><td>0.198</td><td>0.092</td><td>0.045</td><td>delta</td></tr>\n",
       "\t<tr><td>b0            </td><td>0.185</td><td>0.092</td><td>0.051</td><td>delta</td></tr>\n",
       "\t<tr><td>b1            </td><td>0.202</td><td>0.100</td><td>0.051</td><td>delta</td></tr>\n",
       "\t<tr><td>transformation</td><td>0.225</td><td>0.108</td><td>0.045</td><td>delta</td></tr>\n",
       "</tbody>\n",
       "</table>\n"
      ],
      "text/latex": [
       "A data.frame: 4 × 5\n",
       "\\begin{tabular}{lllll}\n",
       " X & T1\\_80 & T1\\_90 & T1\\_95 & method\\\\\n",
       " <chr> & <dbl> & <dbl> & <dbl> & <chr>\\\\\n",
       "\\hline\n",
       "\t intercept      & 0.198 & 0.092 & 0.045 & delta\\\\\n",
       "\t b0             & 0.185 & 0.092 & 0.051 & delta\\\\\n",
       "\t b1             & 0.202 & 0.100 & 0.051 & delta\\\\\n",
       "\t transformation & 0.225 & 0.108 & 0.045 & delta\\\\\n",
       "\\end{tabular}\n"
      ],
      "text/markdown": [
       "\n",
       "A data.frame: 4 × 5\n",
       "\n",
       "| X &lt;chr&gt; | T1_80 &lt;dbl&gt; | T1_90 &lt;dbl&gt; | T1_95 &lt;dbl&gt; | method &lt;chr&gt; |\n",
       "|---|---|---|---|---|\n",
       "| intercept      | 0.198 | 0.092 | 0.045 | delta |\n",
       "| b0             | 0.185 | 0.092 | 0.051 | delta |\n",
       "| b1             | 0.202 | 0.100 | 0.051 | delta |\n",
       "| transformation | 0.225 | 0.108 | 0.045 | delta |\n",
       "\n"
      ],
      "text/plain": [
       "  X              T1_80 T1_90 T1_95 method\n",
       "1 intercept      0.198 0.092 0.045 delta \n",
       "2 b0             0.185 0.092 0.051 delta \n",
       "3 b1             0.202 0.100 0.051 delta \n",
       "4 transformation 0.225 0.108 0.045 delta "
      ]
     },
     "metadata": {},
     "output_type": "display_data"
    }
   ],
   "source": [
    "delta_800 <- read.csv(\"delta_800.csv\")\n",
    "delta_800$method <- \"delta\"\n",
    "delta_800"
   ]
  },
  {
   "cell_type": "code",
   "execution_count": 55,
   "id": "26c4f984-5a8a-4075-ae15-b31b28a9d220",
   "metadata": {},
   "outputs": [
    {
     "data": {
      "text/html": [
       "<table class=\"dataframe\">\n",
       "<caption>A data.frame: 4 × 5</caption>\n",
       "<thead>\n",
       "\t<tr><th scope=col>X</th><th scope=col>T1_80</th><th scope=col>T1_90</th><th scope=col>T1_95</th><th scope=col>method</th></tr>\n",
       "\t<tr><th scope=col>&lt;chr&gt;</th><th scope=col>&lt;dbl&gt;</th><th scope=col>&lt;dbl&gt;</th><th scope=col>&lt;dbl&gt;</th><th scope=col>&lt;chr&gt;</th></tr>\n",
       "</thead>\n",
       "<tbody>\n",
       "\t<tr><td>intercept     </td><td>0.197</td><td>0.091</td><td>0.045</td><td>delta</td></tr>\n",
       "\t<tr><td>b0            </td><td>0.184</td><td>0.091</td><td>0.051</td><td>delta</td></tr>\n",
       "\t<tr><td>b1            </td><td>0.176</td><td>0.076</td><td>0.048</td><td>delta</td></tr>\n",
       "\t<tr><td>transformation</td><td>0.181</td><td>0.087</td><td>0.050</td><td>delta</td></tr>\n",
       "</tbody>\n",
       "</table>\n"
      ],
      "text/latex": [
       "A data.frame: 4 × 5\n",
       "\\begin{tabular}{lllll}\n",
       " X & T1\\_80 & T1\\_90 & T1\\_95 & method\\\\\n",
       " <chr> & <dbl> & <dbl> & <dbl> & <chr>\\\\\n",
       "\\hline\n",
       "\t intercept      & 0.197 & 0.091 & 0.045 & delta\\\\\n",
       "\t b0             & 0.184 & 0.091 & 0.051 & delta\\\\\n",
       "\t b1             & 0.176 & 0.076 & 0.048 & delta\\\\\n",
       "\t transformation & 0.181 & 0.087 & 0.050 & delta\\\\\n",
       "\\end{tabular}\n"
      ],
      "text/markdown": [
       "\n",
       "A data.frame: 4 × 5\n",
       "\n",
       "| X &lt;chr&gt; | T1_80 &lt;dbl&gt; | T1_90 &lt;dbl&gt; | T1_95 &lt;dbl&gt; | method &lt;chr&gt; |\n",
       "|---|---|---|---|---|\n",
       "| intercept      | 0.197 | 0.091 | 0.045 | delta |\n",
       "| b0             | 0.184 | 0.091 | 0.051 | delta |\n",
       "| b1             | 0.176 | 0.076 | 0.048 | delta |\n",
       "| transformation | 0.181 | 0.087 | 0.050 | delta |\n",
       "\n"
      ],
      "text/plain": [
       "  X              T1_80 T1_90 T1_95 method\n",
       "1 intercept      0.197 0.091 0.045 delta \n",
       "2 b0             0.184 0.091 0.051 delta \n",
       "3 b1             0.176 0.076 0.048 delta \n",
       "4 transformation 0.181 0.087 0.050 delta "
      ]
     },
     "metadata": {},
     "output_type": "display_data"
    }
   ],
   "source": [
    "delta_1600 <- read.csv(\"delta_1600.csv\")\n",
    "delta_1600$method <- \"delta\"\n",
    "delta_1600"
   ]
  },
  {
   "cell_type": "code",
   "execution_count": 78,
   "id": "715898e3-5af5-43f4-b1a6-8db79cbf4117",
   "metadata": {},
   "outputs": [
    {
     "data": {
      "text/html": [
       "<table class=\"dataframe\">\n",
       "<caption>A data.frame: 6 × 4</caption>\n",
       "<thead>\n",
       "\t<tr><th scope=col>T1_80</th><th scope=col>T1_90</th><th scope=col>T1_95</th><th scope=col>method</th></tr>\n",
       "\t<tr><th scope=col>&lt;dbl&gt;</th><th scope=col>&lt;dbl&gt;</th><th scope=col>&lt;dbl&gt;</th><th scope=col>&lt;chr&gt;</th></tr>\n",
       "</thead>\n",
       "<tbody>\n",
       "\t<tr><td>0.198</td><td>0.102</td><td>0.045</td><td>delta</td></tr>\n",
       "\t<tr><td>0.213</td><td>0.106</td><td>0.054</td><td>delta</td></tr>\n",
       "\t<tr><td>0.199</td><td>0.095</td><td>0.044</td><td>delta</td></tr>\n",
       "\t<tr><td>0.222</td><td>0.120</td><td>0.068</td><td>delta</td></tr>\n",
       "\t<tr><td>0.198</td><td>0.092</td><td>0.045</td><td>delta</td></tr>\n",
       "\t<tr><td>0.197</td><td>0.091</td><td>0.045</td><td>delta</td></tr>\n",
       "</tbody>\n",
       "</table>\n"
      ],
      "text/latex": [
       "A data.frame: 6 × 4\n",
       "\\begin{tabular}{llll}\n",
       " T1\\_80 & T1\\_90 & T1\\_95 & method\\\\\n",
       " <dbl> & <dbl> & <dbl> & <chr>\\\\\n",
       "\\hline\n",
       "\t 0.198 & 0.102 & 0.045 & delta\\\\\n",
       "\t 0.213 & 0.106 & 0.054 & delta\\\\\n",
       "\t 0.199 & 0.095 & 0.044 & delta\\\\\n",
       "\t 0.222 & 0.120 & 0.068 & delta\\\\\n",
       "\t 0.198 & 0.092 & 0.045 & delta\\\\\n",
       "\t 0.197 & 0.091 & 0.045 & delta\\\\\n",
       "\\end{tabular}\n"
      ],
      "text/markdown": [
       "\n",
       "A data.frame: 6 × 4\n",
       "\n",
       "| T1_80 &lt;dbl&gt; | T1_90 &lt;dbl&gt; | T1_95 &lt;dbl&gt; | method &lt;chr&gt; |\n",
       "|---|---|---|---|\n",
       "| 0.198 | 0.102 | 0.045 | delta |\n",
       "| 0.213 | 0.106 | 0.054 | delta |\n",
       "| 0.199 | 0.095 | 0.044 | delta |\n",
       "| 0.222 | 0.120 | 0.068 | delta |\n",
       "| 0.198 | 0.092 | 0.045 | delta |\n",
       "| 0.197 | 0.091 | 0.045 | delta |\n",
       "\n"
      ],
      "text/plain": [
       "  T1_80 T1_90 T1_95 method\n",
       "1 0.198 0.102 0.045 delta \n",
       "2 0.213 0.106 0.054 delta \n",
       "3 0.199 0.095 0.044 delta \n",
       "4 0.222 0.120 0.068 delta \n",
       "5 0.198 0.092 0.045 delta \n",
       "6 0.197 0.091 0.045 delta "
      ]
     },
     "metadata": {},
     "output_type": "display_data"
    }
   ],
   "source": [
    "intercept <- data.frame(delta_50[1,2:5])\n",
    "intercept <- rbind(intercept, delta_100[1,2:5], delta_200[1,2:5], delta_400[1,2:5], delta_800[1,2:5], delta_1600[1,2:5])\n",
    "#intercept$N <- c(50, 100, 200, 400, 800, 1600)\n",
    "intercept"
   ]
  },
  {
   "cell_type": "code",
   "execution_count": 70,
   "id": "df68dcb4-c1dc-4a2e-8d5a-b77f18b6cb3a",
   "metadata": {},
   "outputs": [
    {
     "data": {
      "text/html": [
       "<table class=\"dataframe\">\n",
       "<caption>A data.frame: 6 × 4</caption>\n",
       "<thead>\n",
       "\t<tr><th></th><th scope=col>T1_80</th><th scope=col>T1_90</th><th scope=col>T1_95</th><th scope=col>method</th></tr>\n",
       "\t<tr><th></th><th scope=col>&lt;dbl&gt;</th><th scope=col>&lt;dbl&gt;</th><th scope=col>&lt;dbl&gt;</th><th scope=col>&lt;chr&gt;</th></tr>\n",
       "</thead>\n",
       "<tbody>\n",
       "\t<tr><th scope=row>2</th><td>0.204</td><td>0.105</td><td>0.053</td><td>delta</td></tr>\n",
       "\t<tr><th scope=row>21</th><td>0.195</td><td>0.088</td><td>0.038</td><td>delta</td></tr>\n",
       "\t<tr><th scope=row>22</th><td>0.209</td><td>0.113</td><td>0.053</td><td>delta</td></tr>\n",
       "\t<tr><th scope=row>23</th><td>0.196</td><td>0.100</td><td>0.061</td><td>delta</td></tr>\n",
       "\t<tr><th scope=row>24</th><td>0.185</td><td>0.092</td><td>0.051</td><td>delta</td></tr>\n",
       "\t<tr><th scope=row>25</th><td>0.184</td><td>0.091</td><td>0.051</td><td>delta</td></tr>\n",
       "</tbody>\n",
       "</table>\n"
      ],
      "text/latex": [
       "A data.frame: 6 × 4\n",
       "\\begin{tabular}{r|llll}\n",
       "  & T1\\_80 & T1\\_90 & T1\\_95 & method\\\\\n",
       "  & <dbl> & <dbl> & <dbl> & <chr>\\\\\n",
       "\\hline\n",
       "\t2 & 0.204 & 0.105 & 0.053 & delta\\\\\n",
       "\t21 & 0.195 & 0.088 & 0.038 & delta\\\\\n",
       "\t22 & 0.209 & 0.113 & 0.053 & delta\\\\\n",
       "\t23 & 0.196 & 0.100 & 0.061 & delta\\\\\n",
       "\t24 & 0.185 & 0.092 & 0.051 & delta\\\\\n",
       "\t25 & 0.184 & 0.091 & 0.051 & delta\\\\\n",
       "\\end{tabular}\n"
      ],
      "text/markdown": [
       "\n",
       "A data.frame: 6 × 4\n",
       "\n",
       "| <!--/--> | T1_80 &lt;dbl&gt; | T1_90 &lt;dbl&gt; | T1_95 &lt;dbl&gt; | method &lt;chr&gt; |\n",
       "|---|---|---|---|---|\n",
       "| 2 | 0.204 | 0.105 | 0.053 | delta |\n",
       "| 21 | 0.195 | 0.088 | 0.038 | delta |\n",
       "| 22 | 0.209 | 0.113 | 0.053 | delta |\n",
       "| 23 | 0.196 | 0.100 | 0.061 | delta |\n",
       "| 24 | 0.185 | 0.092 | 0.051 | delta |\n",
       "| 25 | 0.184 | 0.091 | 0.051 | delta |\n",
       "\n"
      ],
      "text/plain": [
       "   T1_80 T1_90 T1_95 method\n",
       "2  0.204 0.105 0.053 delta \n",
       "21 0.195 0.088 0.038 delta \n",
       "22 0.209 0.113 0.053 delta \n",
       "23 0.196 0.100 0.061 delta \n",
       "24 0.185 0.092 0.051 delta \n",
       "25 0.184 0.091 0.051 delta "
      ]
     },
     "metadata": {},
     "output_type": "display_data"
    }
   ],
   "source": [
    "b0 <- data.frame(delta_50[2,2:5])\n",
    "b0 <- rbind(b0, delta_100[2,2:5], delta_200[2,2:5], delta_400[2,2:5], delta_800[2,2:5], delta_1600[2,2:5])\n",
    "#b0$N <- c(50, 100, 200, 400, 800, 1600)\n",
    "b0"
   ]
  },
  {
   "cell_type": "code",
   "execution_count": 71,
   "id": "bd80e9f3-dca7-464c-96fe-f96400cdc852",
   "metadata": {},
   "outputs": [
    {
     "data": {
      "text/html": [
       "<table class=\"dataframe\">\n",
       "<caption>A data.frame: 6 × 4</caption>\n",
       "<thead>\n",
       "\t<tr><th></th><th scope=col>T1_80</th><th scope=col>T1_90</th><th scope=col>T1_95</th><th scope=col>method</th></tr>\n",
       "\t<tr><th></th><th scope=col>&lt;dbl&gt;</th><th scope=col>&lt;dbl&gt;</th><th scope=col>&lt;dbl&gt;</th><th scope=col>&lt;chr&gt;</th></tr>\n",
       "</thead>\n",
       "<tbody>\n",
       "\t<tr><th scope=row>3</th><td>0.206</td><td>0.109</td><td>0.056</td><td>delta</td></tr>\n",
       "\t<tr><th scope=row>31</th><td>0.225</td><td>0.105</td><td>0.060</td><td>delta</td></tr>\n",
       "\t<tr><th scope=row>32</th><td>0.188</td><td>0.099</td><td>0.056</td><td>delta</td></tr>\n",
       "\t<tr><th scope=row>33</th><td>0.204</td><td>0.089</td><td>0.039</td><td>delta</td></tr>\n",
       "\t<tr><th scope=row>34</th><td>0.202</td><td>0.100</td><td>0.051</td><td>delta</td></tr>\n",
       "\t<tr><th scope=row>35</th><td>0.176</td><td>0.076</td><td>0.048</td><td>delta</td></tr>\n",
       "</tbody>\n",
       "</table>\n"
      ],
      "text/latex": [
       "A data.frame: 6 × 4\n",
       "\\begin{tabular}{r|llll}\n",
       "  & T1\\_80 & T1\\_90 & T1\\_95 & method\\\\\n",
       "  & <dbl> & <dbl> & <dbl> & <chr>\\\\\n",
       "\\hline\n",
       "\t3 & 0.206 & 0.109 & 0.056 & delta\\\\\n",
       "\t31 & 0.225 & 0.105 & 0.060 & delta\\\\\n",
       "\t32 & 0.188 & 0.099 & 0.056 & delta\\\\\n",
       "\t33 & 0.204 & 0.089 & 0.039 & delta\\\\\n",
       "\t34 & 0.202 & 0.100 & 0.051 & delta\\\\\n",
       "\t35 & 0.176 & 0.076 & 0.048 & delta\\\\\n",
       "\\end{tabular}\n"
      ],
      "text/markdown": [
       "\n",
       "A data.frame: 6 × 4\n",
       "\n",
       "| <!--/--> | T1_80 &lt;dbl&gt; | T1_90 &lt;dbl&gt; | T1_95 &lt;dbl&gt; | method &lt;chr&gt; |\n",
       "|---|---|---|---|---|\n",
       "| 3 | 0.206 | 0.109 | 0.056 | delta |\n",
       "| 31 | 0.225 | 0.105 | 0.060 | delta |\n",
       "| 32 | 0.188 | 0.099 | 0.056 | delta |\n",
       "| 33 | 0.204 | 0.089 | 0.039 | delta |\n",
       "| 34 | 0.202 | 0.100 | 0.051 | delta |\n",
       "| 35 | 0.176 | 0.076 | 0.048 | delta |\n",
       "\n"
      ],
      "text/plain": [
       "   T1_80 T1_90 T1_95 method\n",
       "3  0.206 0.109 0.056 delta \n",
       "31 0.225 0.105 0.060 delta \n",
       "32 0.188 0.099 0.056 delta \n",
       "33 0.204 0.089 0.039 delta \n",
       "34 0.202 0.100 0.051 delta \n",
       "35 0.176 0.076 0.048 delta "
      ]
     },
     "metadata": {},
     "output_type": "display_data"
    }
   ],
   "source": [
    "b1 <- data.frame(delta_50[3,2:5])\n",
    "b1 <- rbind(b1, delta_100[3,2:5], delta_200[3,2:5], delta_400[3,2:5], delta_800[3,2:5], delta_1600[3,2:5])\n",
    "#b1$N <- c(50, 100, 200, 400, 800, 1600)\n",
    "b1"
   ]
  },
  {
   "cell_type": "code",
   "execution_count": 72,
   "id": "e9633544-4ae6-4e26-a21b-70663764e2c6",
   "metadata": {},
   "outputs": [
    {
     "data": {
      "text/html": [
       "<table class=\"dataframe\">\n",
       "<caption>A data.frame: 6 × 4</caption>\n",
       "<thead>\n",
       "\t<tr><th></th><th scope=col>T1_80</th><th scope=col>T1_90</th><th scope=col>T1_95</th><th scope=col>method</th></tr>\n",
       "\t<tr><th></th><th scope=col>&lt;dbl&gt;</th><th scope=col>&lt;dbl&gt;</th><th scope=col>&lt;dbl&gt;</th><th scope=col>&lt;chr&gt;</th></tr>\n",
       "</thead>\n",
       "<tbody>\n",
       "\t<tr><th scope=row>4</th><td>0.217</td><td>0.116</td><td>0.059</td><td>delta</td></tr>\n",
       "\t<tr><th scope=row>41</th><td>0.190</td><td>0.096</td><td>0.057</td><td>delta</td></tr>\n",
       "\t<tr><th scope=row>42</th><td>0.179</td><td>0.094</td><td>0.045</td><td>delta</td></tr>\n",
       "\t<tr><th scope=row>43</th><td>0.190</td><td>0.096</td><td>0.048</td><td>delta</td></tr>\n",
       "\t<tr><th scope=row>44</th><td>0.225</td><td>0.108</td><td>0.045</td><td>delta</td></tr>\n",
       "\t<tr><th scope=row>45</th><td>0.181</td><td>0.087</td><td>0.050</td><td>delta</td></tr>\n",
       "</tbody>\n",
       "</table>\n"
      ],
      "text/latex": [
       "A data.frame: 6 × 4\n",
       "\\begin{tabular}{r|llll}\n",
       "  & T1\\_80 & T1\\_90 & T1\\_95 & method\\\\\n",
       "  & <dbl> & <dbl> & <dbl> & <chr>\\\\\n",
       "\\hline\n",
       "\t4 & 0.217 & 0.116 & 0.059 & delta\\\\\n",
       "\t41 & 0.190 & 0.096 & 0.057 & delta\\\\\n",
       "\t42 & 0.179 & 0.094 & 0.045 & delta\\\\\n",
       "\t43 & 0.190 & 0.096 & 0.048 & delta\\\\\n",
       "\t44 & 0.225 & 0.108 & 0.045 & delta\\\\\n",
       "\t45 & 0.181 & 0.087 & 0.050 & delta\\\\\n",
       "\\end{tabular}\n"
      ],
      "text/markdown": [
       "\n",
       "A data.frame: 6 × 4\n",
       "\n",
       "| <!--/--> | T1_80 &lt;dbl&gt; | T1_90 &lt;dbl&gt; | T1_95 &lt;dbl&gt; | method &lt;chr&gt; |\n",
       "|---|---|---|---|---|\n",
       "| 4 | 0.217 | 0.116 | 0.059 | delta |\n",
       "| 41 | 0.190 | 0.096 | 0.057 | delta |\n",
       "| 42 | 0.179 | 0.094 | 0.045 | delta |\n",
       "| 43 | 0.190 | 0.096 | 0.048 | delta |\n",
       "| 44 | 0.225 | 0.108 | 0.045 | delta |\n",
       "| 45 | 0.181 | 0.087 | 0.050 | delta |\n",
       "\n"
      ],
      "text/plain": [
       "   T1_80 T1_90 T1_95 method\n",
       "4  0.217 0.116 0.059 delta \n",
       "41 0.190 0.096 0.057 delta \n",
       "42 0.179 0.094 0.045 delta \n",
       "43 0.190 0.096 0.048 delta \n",
       "44 0.225 0.108 0.045 delta \n",
       "45 0.181 0.087 0.050 delta "
      ]
     },
     "metadata": {},
     "output_type": "display_data"
    }
   ],
   "source": [
    "transformation <- data.frame(delta_50[4,2:5])\n",
    "transformation <- rbind(transformation, delta_100[4,2:5], delta_200[4,2:5], delta_400[4,2:5], delta_800[4,2:5], delta_1600[4,2:5])\n",
    "#transformation$N <- c(50, 100, 200, 400, 800, 1600)\n",
    "transformation"
   ]
  },
  {
   "cell_type": "code",
   "execution_count": 73,
   "id": "ea0dfc70-0c0a-4b6d-ad35-f9a83c64ed12",
   "metadata": {},
   "outputs": [
    {
     "data": {
      "text/html": [
       "<table class=\"dataframe\">\n",
       "<caption>A data.frame: 4 × 5</caption>\n",
       "<thead>\n",
       "\t<tr><th scope=col>X</th><th scope=col>T1_80</th><th scope=col>T1_90</th><th scope=col>T1_95</th><th scope=col>method</th></tr>\n",
       "\t<tr><th scope=col>&lt;chr&gt;</th><th scope=col>&lt;dbl&gt;</th><th scope=col>&lt;dbl&gt;</th><th scope=col>&lt;dbl&gt;</th><th scope=col>&lt;chr&gt;</th></tr>\n",
       "</thead>\n",
       "<tbody>\n",
       "\t<tr><td>intercept     </td><td>0.198</td><td>0.098</td><td>0.054</td><td>bs</td></tr>\n",
       "\t<tr><td>b0            </td><td>0.204</td><td>0.110</td><td>0.072</td><td>bs</td></tr>\n",
       "\t<tr><td>b1            </td><td>0.162</td><td>0.076</td><td>0.038</td><td>bs</td></tr>\n",
       "\t<tr><td>transformation</td><td>0.190</td><td>0.118</td><td>0.060</td><td>bs</td></tr>\n",
       "</tbody>\n",
       "</table>\n"
      ],
      "text/latex": [
       "A data.frame: 4 × 5\n",
       "\\begin{tabular}{lllll}\n",
       " X & T1\\_80 & T1\\_90 & T1\\_95 & method\\\\\n",
       " <chr> & <dbl> & <dbl> & <dbl> & <chr>\\\\\n",
       "\\hline\n",
       "\t intercept      & 0.198 & 0.098 & 0.054 & bs\\\\\n",
       "\t b0             & 0.204 & 0.110 & 0.072 & bs\\\\\n",
       "\t b1             & 0.162 & 0.076 & 0.038 & bs\\\\\n",
       "\t transformation & 0.190 & 0.118 & 0.060 & bs\\\\\n",
       "\\end{tabular}\n"
      ],
      "text/markdown": [
       "\n",
       "A data.frame: 4 × 5\n",
       "\n",
       "| X &lt;chr&gt; | T1_80 &lt;dbl&gt; | T1_90 &lt;dbl&gt; | T1_95 &lt;dbl&gt; | method &lt;chr&gt; |\n",
       "|---|---|---|---|---|\n",
       "| intercept      | 0.198 | 0.098 | 0.054 | bs |\n",
       "| b0             | 0.204 | 0.110 | 0.072 | bs |\n",
       "| b1             | 0.162 | 0.076 | 0.038 | bs |\n",
       "| transformation | 0.190 | 0.118 | 0.060 | bs |\n",
       "\n"
      ],
      "text/plain": [
       "  X              T1_80 T1_90 T1_95 method\n",
       "1 intercept      0.198 0.098 0.054 bs    \n",
       "2 b0             0.204 0.110 0.072 bs    \n",
       "3 b1             0.162 0.076 0.038 bs    \n",
       "4 transformation 0.190 0.118 0.060 bs    "
      ]
     },
     "metadata": {},
     "output_type": "display_data"
    }
   ],
   "source": [
    "bs_50 <- read.csv(\"bs_50.csv\")\n",
    "bs_50$method <- \"bs\"\n",
    "bs_50"
   ]
  },
  {
   "cell_type": "code",
   "execution_count": 61,
   "id": "8127b8d3-0055-4bcf-be9d-b3e62ef8b789",
   "metadata": {},
   "outputs": [
    {
     "data": {
      "text/html": [
       "<table class=\"dataframe\">\n",
       "<caption>A data.frame: 4 × 5</caption>\n",
       "<thead>\n",
       "\t<tr><th scope=col>X</th><th scope=col>T1_80</th><th scope=col>T1_90</th><th scope=col>T1_95</th><th scope=col>method</th></tr>\n",
       "\t<tr><th scope=col>&lt;chr&gt;</th><th scope=col>&lt;dbl&gt;</th><th scope=col>&lt;dbl&gt;</th><th scope=col>&lt;dbl&gt;</th><th scope=col>&lt;chr&gt;</th></tr>\n",
       "</thead>\n",
       "<tbody>\n",
       "\t<tr><td>intercept     </td><td>0.210</td><td>0.112</td><td>0.058</td><td>bs</td></tr>\n",
       "\t<tr><td>b0            </td><td>0.218</td><td>0.112</td><td>0.064</td><td>bs</td></tr>\n",
       "\t<tr><td>b1            </td><td>0.176</td><td>0.070</td><td>0.028</td><td>bs</td></tr>\n",
       "\t<tr><td>transformation</td><td>0.218</td><td>0.100</td><td>0.050</td><td>bs</td></tr>\n",
       "</tbody>\n",
       "</table>\n"
      ],
      "text/latex": [
       "A data.frame: 4 × 5\n",
       "\\begin{tabular}{lllll}\n",
       " X & T1\\_80 & T1\\_90 & T1\\_95 & method\\\\\n",
       " <chr> & <dbl> & <dbl> & <dbl> & <chr>\\\\\n",
       "\\hline\n",
       "\t intercept      & 0.210 & 0.112 & 0.058 & bs\\\\\n",
       "\t b0             & 0.218 & 0.112 & 0.064 & bs\\\\\n",
       "\t b1             & 0.176 & 0.070 & 0.028 & bs\\\\\n",
       "\t transformation & 0.218 & 0.100 & 0.050 & bs\\\\\n",
       "\\end{tabular}\n"
      ],
      "text/markdown": [
       "\n",
       "A data.frame: 4 × 5\n",
       "\n",
       "| X &lt;chr&gt; | T1_80 &lt;dbl&gt; | T1_90 &lt;dbl&gt; | T1_95 &lt;dbl&gt; | method &lt;chr&gt; |\n",
       "|---|---|---|---|---|\n",
       "| intercept      | 0.210 | 0.112 | 0.058 | bs |\n",
       "| b0             | 0.218 | 0.112 | 0.064 | bs |\n",
       "| b1             | 0.176 | 0.070 | 0.028 | bs |\n",
       "| transformation | 0.218 | 0.100 | 0.050 | bs |\n",
       "\n"
      ],
      "text/plain": [
       "  X              T1_80 T1_90 T1_95 method\n",
       "1 intercept      0.210 0.112 0.058 bs    \n",
       "2 b0             0.218 0.112 0.064 bs    \n",
       "3 b1             0.176 0.070 0.028 bs    \n",
       "4 transformation 0.218 0.100 0.050 bs    "
      ]
     },
     "metadata": {},
     "output_type": "display_data"
    }
   ],
   "source": [
    "bs_100 <- read.csv(\"bs_100.csv\")\n",
    "bs_100$method <- \"bs\"\n",
    "bs_100"
   ]
  },
  {
   "cell_type": "code",
   "execution_count": 62,
   "id": "207f057b-2fd5-48e2-bcdf-da01f01c0d42",
   "metadata": {},
   "outputs": [
    {
     "data": {
      "text/html": [
       "<table class=\"dataframe\">\n",
       "<caption>A data.frame: 4 × 5</caption>\n",
       "<thead>\n",
       "\t<tr><th scope=col>X</th><th scope=col>T1_80</th><th scope=col>T1_90</th><th scope=col>T1_95</th><th scope=col>method</th></tr>\n",
       "\t<tr><th scope=col>&lt;chr&gt;</th><th scope=col>&lt;dbl&gt;</th><th scope=col>&lt;dbl&gt;</th><th scope=col>&lt;dbl&gt;</th><th scope=col>&lt;chr&gt;</th></tr>\n",
       "</thead>\n",
       "<tbody>\n",
       "\t<tr><td>intercept     </td><td>0.192</td><td>0.102</td><td>0.044</td><td>bs</td></tr>\n",
       "\t<tr><td>b0            </td><td>0.208</td><td>0.104</td><td>0.034</td><td>bs</td></tr>\n",
       "\t<tr><td>b1            </td><td>0.162</td><td>0.080</td><td>0.034</td><td>bs</td></tr>\n",
       "\t<tr><td>transformation</td><td>0.190</td><td>0.118</td><td>0.064</td><td>bs</td></tr>\n",
       "</tbody>\n",
       "</table>\n"
      ],
      "text/latex": [
       "A data.frame: 4 × 5\n",
       "\\begin{tabular}{lllll}\n",
       " X & T1\\_80 & T1\\_90 & T1\\_95 & method\\\\\n",
       " <chr> & <dbl> & <dbl> & <dbl> & <chr>\\\\\n",
       "\\hline\n",
       "\t intercept      & 0.192 & 0.102 & 0.044 & bs\\\\\n",
       "\t b0             & 0.208 & 0.104 & 0.034 & bs\\\\\n",
       "\t b1             & 0.162 & 0.080 & 0.034 & bs\\\\\n",
       "\t transformation & 0.190 & 0.118 & 0.064 & bs\\\\\n",
       "\\end{tabular}\n"
      ],
      "text/markdown": [
       "\n",
       "A data.frame: 4 × 5\n",
       "\n",
       "| X &lt;chr&gt; | T1_80 &lt;dbl&gt; | T1_90 &lt;dbl&gt; | T1_95 &lt;dbl&gt; | method &lt;chr&gt; |\n",
       "|---|---|---|---|---|\n",
       "| intercept      | 0.192 | 0.102 | 0.044 | bs |\n",
       "| b0             | 0.208 | 0.104 | 0.034 | bs |\n",
       "| b1             | 0.162 | 0.080 | 0.034 | bs |\n",
       "| transformation | 0.190 | 0.118 | 0.064 | bs |\n",
       "\n"
      ],
      "text/plain": [
       "  X              T1_80 T1_90 T1_95 method\n",
       "1 intercept      0.192 0.102 0.044 bs    \n",
       "2 b0             0.208 0.104 0.034 bs    \n",
       "3 b1             0.162 0.080 0.034 bs    \n",
       "4 transformation 0.190 0.118 0.064 bs    "
      ]
     },
     "metadata": {},
     "output_type": "display_data"
    }
   ],
   "source": [
    "bs_200 <- read.csv(\"bs_200.csv\")\n",
    "bs_200$method <- \"bs\"\n",
    "bs_200"
   ]
  },
  {
   "cell_type": "code",
   "execution_count": 63,
   "id": "8ac9d8c8-1778-49ce-a54f-effe7e66022a",
   "metadata": {},
   "outputs": [
    {
     "data": {
      "text/html": [
       "<table class=\"dataframe\">\n",
       "<caption>A data.frame: 4 × 5</caption>\n",
       "<thead>\n",
       "\t<tr><th scope=col>X</th><th scope=col>T1_80</th><th scope=col>T1_90</th><th scope=col>T1_95</th><th scope=col>method</th></tr>\n",
       "\t<tr><th scope=col>&lt;chr&gt;</th><th scope=col>&lt;dbl&gt;</th><th scope=col>&lt;dbl&gt;</th><th scope=col>&lt;dbl&gt;</th><th scope=col>&lt;chr&gt;</th></tr>\n",
       "</thead>\n",
       "<tbody>\n",
       "\t<tr><td>intercept     </td><td>0.202</td><td>0.096</td><td>0.05</td><td>bs</td></tr>\n",
       "\t<tr><td>b0            </td><td>0.212</td><td>0.124</td><td>0.06</td><td>bs</td></tr>\n",
       "\t<tr><td>b1            </td><td>0.192</td><td>0.088</td><td>0.05</td><td>bs</td></tr>\n",
       "\t<tr><td>transformation</td><td>0.198</td><td>0.106</td><td>0.07</td><td>bs</td></tr>\n",
       "</tbody>\n",
       "</table>\n"
      ],
      "text/latex": [
       "A data.frame: 4 × 5\n",
       "\\begin{tabular}{lllll}\n",
       " X & T1\\_80 & T1\\_90 & T1\\_95 & method\\\\\n",
       " <chr> & <dbl> & <dbl> & <dbl> & <chr>\\\\\n",
       "\\hline\n",
       "\t intercept      & 0.202 & 0.096 & 0.05 & bs\\\\\n",
       "\t b0             & 0.212 & 0.124 & 0.06 & bs\\\\\n",
       "\t b1             & 0.192 & 0.088 & 0.05 & bs\\\\\n",
       "\t transformation & 0.198 & 0.106 & 0.07 & bs\\\\\n",
       "\\end{tabular}\n"
      ],
      "text/markdown": [
       "\n",
       "A data.frame: 4 × 5\n",
       "\n",
       "| X &lt;chr&gt; | T1_80 &lt;dbl&gt; | T1_90 &lt;dbl&gt; | T1_95 &lt;dbl&gt; | method &lt;chr&gt; |\n",
       "|---|---|---|---|---|\n",
       "| intercept      | 0.202 | 0.096 | 0.05 | bs |\n",
       "| b0             | 0.212 | 0.124 | 0.06 | bs |\n",
       "| b1             | 0.192 | 0.088 | 0.05 | bs |\n",
       "| transformation | 0.198 | 0.106 | 0.07 | bs |\n",
       "\n"
      ],
      "text/plain": [
       "  X              T1_80 T1_90 T1_95 method\n",
       "1 intercept      0.202 0.096 0.05  bs    \n",
       "2 b0             0.212 0.124 0.06  bs    \n",
       "3 b1             0.192 0.088 0.05  bs    \n",
       "4 transformation 0.198 0.106 0.07  bs    "
      ]
     },
     "metadata": {},
     "output_type": "display_data"
    }
   ],
   "source": [
    "bs_400 <- read.csv(\"bs_400.csv\")\n",
    "bs_400$method <- \"bs\"\n",
    "bs_400"
   ]
  },
  {
   "cell_type": "code",
   "execution_count": 64,
   "id": "7d16d904-7758-4361-8b4c-0c9ea9997b7b",
   "metadata": {},
   "outputs": [
    {
     "data": {
      "text/html": [
       "<table class=\"dataframe\">\n",
       "<caption>A data.frame: 4 × 5</caption>\n",
       "<thead>\n",
       "\t<tr><th scope=col>X</th><th scope=col>T1_80</th><th scope=col>T1_90</th><th scope=col>T1_95</th><th scope=col>method</th></tr>\n",
       "\t<tr><th scope=col>&lt;chr&gt;</th><th scope=col>&lt;dbl&gt;</th><th scope=col>&lt;dbl&gt;</th><th scope=col>&lt;dbl&gt;</th><th scope=col>&lt;chr&gt;</th></tr>\n",
       "</thead>\n",
       "<tbody>\n",
       "\t<tr><td>intercept     </td><td>0.196</td><td>0.092</td><td>0.056</td><td>bs</td></tr>\n",
       "\t<tr><td>b0            </td><td>0.166</td><td>0.082</td><td>0.048</td><td>bs</td></tr>\n",
       "\t<tr><td>b1            </td><td>0.200</td><td>0.080</td><td>0.044</td><td>bs</td></tr>\n",
       "\t<tr><td>transformation</td><td>0.216</td><td>0.102</td><td>0.042</td><td>bs</td></tr>\n",
       "</tbody>\n",
       "</table>\n"
      ],
      "text/latex": [
       "A data.frame: 4 × 5\n",
       "\\begin{tabular}{lllll}\n",
       " X & T1\\_80 & T1\\_90 & T1\\_95 & method\\\\\n",
       " <chr> & <dbl> & <dbl> & <dbl> & <chr>\\\\\n",
       "\\hline\n",
       "\t intercept      & 0.196 & 0.092 & 0.056 & bs\\\\\n",
       "\t b0             & 0.166 & 0.082 & 0.048 & bs\\\\\n",
       "\t b1             & 0.200 & 0.080 & 0.044 & bs\\\\\n",
       "\t transformation & 0.216 & 0.102 & 0.042 & bs\\\\\n",
       "\\end{tabular}\n"
      ],
      "text/markdown": [
       "\n",
       "A data.frame: 4 × 5\n",
       "\n",
       "| X &lt;chr&gt; | T1_80 &lt;dbl&gt; | T1_90 &lt;dbl&gt; | T1_95 &lt;dbl&gt; | method &lt;chr&gt; |\n",
       "|---|---|---|---|---|\n",
       "| intercept      | 0.196 | 0.092 | 0.056 | bs |\n",
       "| b0             | 0.166 | 0.082 | 0.048 | bs |\n",
       "| b1             | 0.200 | 0.080 | 0.044 | bs |\n",
       "| transformation | 0.216 | 0.102 | 0.042 | bs |\n",
       "\n"
      ],
      "text/plain": [
       "  X              T1_80 T1_90 T1_95 method\n",
       "1 intercept      0.196 0.092 0.056 bs    \n",
       "2 b0             0.166 0.082 0.048 bs    \n",
       "3 b1             0.200 0.080 0.044 bs    \n",
       "4 transformation 0.216 0.102 0.042 bs    "
      ]
     },
     "metadata": {},
     "output_type": "display_data"
    }
   ],
   "source": [
    "bs_800 <- read.csv(\"bs_800.csv\")\n",
    "bs_800$method <- \"bs\"\n",
    "bs_800"
   ]
  },
  {
   "cell_type": "code",
   "execution_count": 65,
   "id": "c8f8ddd4-43b8-4021-bfb6-29c0493f2e9e",
   "metadata": {},
   "outputs": [
    {
     "data": {
      "text/html": [
       "<table class=\"dataframe\">\n",
       "<caption>A data.frame: 4 × 5</caption>\n",
       "<thead>\n",
       "\t<tr><th scope=col>X</th><th scope=col>T1_80</th><th scope=col>T1_90</th><th scope=col>T1_95</th><th scope=col>method</th></tr>\n",
       "\t<tr><th scope=col>&lt;chr&gt;</th><th scope=col>&lt;dbl&gt;</th><th scope=col>&lt;dbl&gt;</th><th scope=col>&lt;dbl&gt;</th><th scope=col>&lt;chr&gt;</th></tr>\n",
       "</thead>\n",
       "<tbody>\n",
       "\t<tr><td>intercept     </td><td>0.188</td><td>0.086</td><td>0.050</td><td>bs</td></tr>\n",
       "\t<tr><td>b0            </td><td>0.164</td><td>0.076</td><td>0.040</td><td>bs</td></tr>\n",
       "\t<tr><td>b1            </td><td>0.144</td><td>0.072</td><td>0.034</td><td>bs</td></tr>\n",
       "\t<tr><td>transformation</td><td>0.162</td><td>0.086</td><td>0.028</td><td>bs</td></tr>\n",
       "</tbody>\n",
       "</table>\n"
      ],
      "text/latex": [
       "A data.frame: 4 × 5\n",
       "\\begin{tabular}{lllll}\n",
       " X & T1\\_80 & T1\\_90 & T1\\_95 & method\\\\\n",
       " <chr> & <dbl> & <dbl> & <dbl> & <chr>\\\\\n",
       "\\hline\n",
       "\t intercept      & 0.188 & 0.086 & 0.050 & bs\\\\\n",
       "\t b0             & 0.164 & 0.076 & 0.040 & bs\\\\\n",
       "\t b1             & 0.144 & 0.072 & 0.034 & bs\\\\\n",
       "\t transformation & 0.162 & 0.086 & 0.028 & bs\\\\\n",
       "\\end{tabular}\n"
      ],
      "text/markdown": [
       "\n",
       "A data.frame: 4 × 5\n",
       "\n",
       "| X &lt;chr&gt; | T1_80 &lt;dbl&gt; | T1_90 &lt;dbl&gt; | T1_95 &lt;dbl&gt; | method &lt;chr&gt; |\n",
       "|---|---|---|---|---|\n",
       "| intercept      | 0.188 | 0.086 | 0.050 | bs |\n",
       "| b0             | 0.164 | 0.076 | 0.040 | bs |\n",
       "| b1             | 0.144 | 0.072 | 0.034 | bs |\n",
       "| transformation | 0.162 | 0.086 | 0.028 | bs |\n",
       "\n"
      ],
      "text/plain": [
       "  X              T1_80 T1_90 T1_95 method\n",
       "1 intercept      0.188 0.086 0.050 bs    \n",
       "2 b0             0.164 0.076 0.040 bs    \n",
       "3 b1             0.144 0.072 0.034 bs    \n",
       "4 transformation 0.162 0.086 0.028 bs    "
      ]
     },
     "metadata": {},
     "output_type": "display_data"
    }
   ],
   "source": [
    "bs_1600 <- read.csv(\"bs_1600.csv\")\n",
    "bs_1600$method <- \"bs\"\n",
    "bs_1600"
   ]
  },
  {
   "cell_type": "code",
   "execution_count": 80,
   "id": "92af9a5b-72fe-4f07-9d88-90cbd434a5c9",
   "metadata": {},
   "outputs": [
    {
     "data": {
      "text/html": [
       "<table class=\"dataframe\">\n",
       "<caption>A data.frame: 12 × 5</caption>\n",
       "<thead>\n",
       "\t<tr><th scope=col>T1_80</th><th scope=col>T1_90</th><th scope=col>T1_95</th><th scope=col>method</th><th scope=col>N</th></tr>\n",
       "\t<tr><th scope=col>&lt;dbl&gt;</th><th scope=col>&lt;dbl&gt;</th><th scope=col>&lt;dbl&gt;</th><th scope=col>&lt;chr&gt;</th><th scope=col>&lt;dbl&gt;</th></tr>\n",
       "</thead>\n",
       "<tbody>\n",
       "\t<tr><td>0.198</td><td>0.102</td><td>0.045</td><td>delta</td><td>  50</td></tr>\n",
       "\t<tr><td>0.213</td><td>0.106</td><td>0.054</td><td>delta</td><td> 100</td></tr>\n",
       "\t<tr><td>0.199</td><td>0.095</td><td>0.044</td><td>delta</td><td> 200</td></tr>\n",
       "\t<tr><td>0.222</td><td>0.120</td><td>0.068</td><td>delta</td><td> 400</td></tr>\n",
       "\t<tr><td>0.198</td><td>0.092</td><td>0.045</td><td>delta</td><td> 800</td></tr>\n",
       "\t<tr><td>0.197</td><td>0.091</td><td>0.045</td><td>delta</td><td>1600</td></tr>\n",
       "\t<tr><td>0.198</td><td>0.098</td><td>0.054</td><td>bs   </td><td>  50</td></tr>\n",
       "\t<tr><td>0.210</td><td>0.112</td><td>0.058</td><td>bs   </td><td> 100</td></tr>\n",
       "\t<tr><td>0.192</td><td>0.102</td><td>0.044</td><td>bs   </td><td> 200</td></tr>\n",
       "\t<tr><td>0.202</td><td>0.096</td><td>0.050</td><td>bs   </td><td> 400</td></tr>\n",
       "\t<tr><td>0.196</td><td>0.092</td><td>0.056</td><td>bs   </td><td> 800</td></tr>\n",
       "\t<tr><td>0.188</td><td>0.086</td><td>0.050</td><td>bs   </td><td>1600</td></tr>\n",
       "</tbody>\n",
       "</table>\n"
      ],
      "text/latex": [
       "A data.frame: 12 × 5\n",
       "\\begin{tabular}{lllll}\n",
       " T1\\_80 & T1\\_90 & T1\\_95 & method & N\\\\\n",
       " <dbl> & <dbl> & <dbl> & <chr> & <dbl>\\\\\n",
       "\\hline\n",
       "\t 0.198 & 0.102 & 0.045 & delta &   50\\\\\n",
       "\t 0.213 & 0.106 & 0.054 & delta &  100\\\\\n",
       "\t 0.199 & 0.095 & 0.044 & delta &  200\\\\\n",
       "\t 0.222 & 0.120 & 0.068 & delta &  400\\\\\n",
       "\t 0.198 & 0.092 & 0.045 & delta &  800\\\\\n",
       "\t 0.197 & 0.091 & 0.045 & delta & 1600\\\\\n",
       "\t 0.198 & 0.098 & 0.054 & bs    &   50\\\\\n",
       "\t 0.210 & 0.112 & 0.058 & bs    &  100\\\\\n",
       "\t 0.192 & 0.102 & 0.044 & bs    &  200\\\\\n",
       "\t 0.202 & 0.096 & 0.050 & bs    &  400\\\\\n",
       "\t 0.196 & 0.092 & 0.056 & bs    &  800\\\\\n",
       "\t 0.188 & 0.086 & 0.050 & bs    & 1600\\\\\n",
       "\\end{tabular}\n"
      ],
      "text/markdown": [
       "\n",
       "A data.frame: 12 × 5\n",
       "\n",
       "| T1_80 &lt;dbl&gt; | T1_90 &lt;dbl&gt; | T1_95 &lt;dbl&gt; | method &lt;chr&gt; | N &lt;dbl&gt; |\n",
       "|---|---|---|---|---|\n",
       "| 0.198 | 0.102 | 0.045 | delta |   50 |\n",
       "| 0.213 | 0.106 | 0.054 | delta |  100 |\n",
       "| 0.199 | 0.095 | 0.044 | delta |  200 |\n",
       "| 0.222 | 0.120 | 0.068 | delta |  400 |\n",
       "| 0.198 | 0.092 | 0.045 | delta |  800 |\n",
       "| 0.197 | 0.091 | 0.045 | delta | 1600 |\n",
       "| 0.198 | 0.098 | 0.054 | bs    |   50 |\n",
       "| 0.210 | 0.112 | 0.058 | bs    |  100 |\n",
       "| 0.192 | 0.102 | 0.044 | bs    |  200 |\n",
       "| 0.202 | 0.096 | 0.050 | bs    |  400 |\n",
       "| 0.196 | 0.092 | 0.056 | bs    |  800 |\n",
       "| 0.188 | 0.086 | 0.050 | bs    | 1600 |\n",
       "\n"
      ],
      "text/plain": [
       "   T1_80 T1_90 T1_95 method N   \n",
       "1  0.198 0.102 0.045 delta    50\n",
       "2  0.213 0.106 0.054 delta   100\n",
       "3  0.199 0.095 0.044 delta   200\n",
       "4  0.222 0.120 0.068 delta   400\n",
       "5  0.198 0.092 0.045 delta   800\n",
       "6  0.197 0.091 0.045 delta  1600\n",
       "7  0.198 0.098 0.054 bs       50\n",
       "8  0.210 0.112 0.058 bs      100\n",
       "9  0.192 0.102 0.044 bs      200\n",
       "10 0.202 0.096 0.050 bs      400\n",
       "11 0.196 0.092 0.056 bs      800\n",
       "12 0.188 0.086 0.050 bs     1600"
      ]
     },
     "metadata": {},
     "output_type": "display_data"
    }
   ],
   "source": [
    "intercept1 <- rbind(intercept, bs_50[1, 2:5], bs_100[1, 2:5], bs_200[1, 2:5], bs_400[1, 2:5], bs_800[1, 2:5], bs_1600[1, 2:5])\n",
    "intercept1$N <- c(50, 100, 200, 400, 800, 1600, 50, 100, 200, 400, 800, 1600)\n",
    "intercept1"
   ]
  },
  {
   "cell_type": "code",
   "execution_count": 81,
   "id": "f99cfeb4-8a17-4f45-a13e-48733fd9a0e8",
   "metadata": {},
   "outputs": [
    {
     "data": {
      "text/html": [
       "<table class=\"dataframe\">\n",
       "<caption>A data.frame: 12 × 5</caption>\n",
       "<thead>\n",
       "\t<tr><th></th><th scope=col>T1_80</th><th scope=col>T1_90</th><th scope=col>T1_95</th><th scope=col>method</th><th scope=col>N</th></tr>\n",
       "\t<tr><th></th><th scope=col>&lt;dbl&gt;</th><th scope=col>&lt;dbl&gt;</th><th scope=col>&lt;dbl&gt;</th><th scope=col>&lt;chr&gt;</th><th scope=col>&lt;dbl&gt;</th></tr>\n",
       "</thead>\n",
       "<tbody>\n",
       "\t<tr><th scope=row>2</th><td>0.204</td><td>0.105</td><td>0.053</td><td>delta</td><td>  50</td></tr>\n",
       "\t<tr><th scope=row>21</th><td>0.195</td><td>0.088</td><td>0.038</td><td>delta</td><td> 100</td></tr>\n",
       "\t<tr><th scope=row>22</th><td>0.209</td><td>0.113</td><td>0.053</td><td>delta</td><td> 200</td></tr>\n",
       "\t<tr><th scope=row>23</th><td>0.196</td><td>0.100</td><td>0.061</td><td>delta</td><td> 400</td></tr>\n",
       "\t<tr><th scope=row>24</th><td>0.185</td><td>0.092</td><td>0.051</td><td>delta</td><td> 800</td></tr>\n",
       "\t<tr><th scope=row>25</th><td>0.184</td><td>0.091</td><td>0.051</td><td>delta</td><td>1600</td></tr>\n",
       "\t<tr><th scope=row>26</th><td>0.204</td><td>0.110</td><td>0.072</td><td>bs   </td><td>  50</td></tr>\n",
       "\t<tr><th scope=row>27</th><td>0.218</td><td>0.112</td><td>0.064</td><td>bs   </td><td> 100</td></tr>\n",
       "\t<tr><th scope=row>28</th><td>0.208</td><td>0.104</td><td>0.034</td><td>bs   </td><td> 200</td></tr>\n",
       "\t<tr><th scope=row>29</th><td>0.212</td><td>0.124</td><td>0.060</td><td>bs   </td><td> 400</td></tr>\n",
       "\t<tr><th scope=row>210</th><td>0.166</td><td>0.082</td><td>0.048</td><td>bs   </td><td> 800</td></tr>\n",
       "\t<tr><th scope=row>211</th><td>0.164</td><td>0.076</td><td>0.040</td><td>bs   </td><td>1600</td></tr>\n",
       "</tbody>\n",
       "</table>\n"
      ],
      "text/latex": [
       "A data.frame: 12 × 5\n",
       "\\begin{tabular}{r|lllll}\n",
       "  & T1\\_80 & T1\\_90 & T1\\_95 & method & N\\\\\n",
       "  & <dbl> & <dbl> & <dbl> & <chr> & <dbl>\\\\\n",
       "\\hline\n",
       "\t2 & 0.204 & 0.105 & 0.053 & delta &   50\\\\\n",
       "\t21 & 0.195 & 0.088 & 0.038 & delta &  100\\\\\n",
       "\t22 & 0.209 & 0.113 & 0.053 & delta &  200\\\\\n",
       "\t23 & 0.196 & 0.100 & 0.061 & delta &  400\\\\\n",
       "\t24 & 0.185 & 0.092 & 0.051 & delta &  800\\\\\n",
       "\t25 & 0.184 & 0.091 & 0.051 & delta & 1600\\\\\n",
       "\t26 & 0.204 & 0.110 & 0.072 & bs    &   50\\\\\n",
       "\t27 & 0.218 & 0.112 & 0.064 & bs    &  100\\\\\n",
       "\t28 & 0.208 & 0.104 & 0.034 & bs    &  200\\\\\n",
       "\t29 & 0.212 & 0.124 & 0.060 & bs    &  400\\\\\n",
       "\t210 & 0.166 & 0.082 & 0.048 & bs    &  800\\\\\n",
       "\t211 & 0.164 & 0.076 & 0.040 & bs    & 1600\\\\\n",
       "\\end{tabular}\n"
      ],
      "text/markdown": [
       "\n",
       "A data.frame: 12 × 5\n",
       "\n",
       "| <!--/--> | T1_80 &lt;dbl&gt; | T1_90 &lt;dbl&gt; | T1_95 &lt;dbl&gt; | method &lt;chr&gt; | N &lt;dbl&gt; |\n",
       "|---|---|---|---|---|---|\n",
       "| 2 | 0.204 | 0.105 | 0.053 | delta |   50 |\n",
       "| 21 | 0.195 | 0.088 | 0.038 | delta |  100 |\n",
       "| 22 | 0.209 | 0.113 | 0.053 | delta |  200 |\n",
       "| 23 | 0.196 | 0.100 | 0.061 | delta |  400 |\n",
       "| 24 | 0.185 | 0.092 | 0.051 | delta |  800 |\n",
       "| 25 | 0.184 | 0.091 | 0.051 | delta | 1600 |\n",
       "| 26 | 0.204 | 0.110 | 0.072 | bs    |   50 |\n",
       "| 27 | 0.218 | 0.112 | 0.064 | bs    |  100 |\n",
       "| 28 | 0.208 | 0.104 | 0.034 | bs    |  200 |\n",
       "| 29 | 0.212 | 0.124 | 0.060 | bs    |  400 |\n",
       "| 210 | 0.166 | 0.082 | 0.048 | bs    |  800 |\n",
       "| 211 | 0.164 | 0.076 | 0.040 | bs    | 1600 |\n",
       "\n"
      ],
      "text/plain": [
       "    T1_80 T1_90 T1_95 method N   \n",
       "2   0.204 0.105 0.053 delta    50\n",
       "21  0.195 0.088 0.038 delta   100\n",
       "22  0.209 0.113 0.053 delta   200\n",
       "23  0.196 0.100 0.061 delta   400\n",
       "24  0.185 0.092 0.051 delta   800\n",
       "25  0.184 0.091 0.051 delta  1600\n",
       "26  0.204 0.110 0.072 bs       50\n",
       "27  0.218 0.112 0.064 bs      100\n",
       "28  0.208 0.104 0.034 bs      200\n",
       "29  0.212 0.124 0.060 bs      400\n",
       "210 0.166 0.082 0.048 bs      800\n",
       "211 0.164 0.076 0.040 bs     1600"
      ]
     },
     "metadata": {},
     "output_type": "display_data"
    }
   ],
   "source": [
    "b01 <- rbind(b0, bs_50[2, 2:5], bs_100[2, 2:5], bs_200[2, 2:5], bs_400[2, 2:5], bs_800[2, 2:5], bs_1600[2, 2:5])\n",
    "b01$N <- c(50, 100, 200, 400, 800, 1600, 50, 100, 200, 400, 800, 1600)\n",
    "b01"
   ]
  },
  {
   "cell_type": "code",
   "execution_count": 82,
   "id": "e6076753-9ce6-48e0-976d-5dcec71ac5aa",
   "metadata": {},
   "outputs": [
    {
     "data": {
      "text/html": [
       "<table class=\"dataframe\">\n",
       "<caption>A data.frame: 12 × 5</caption>\n",
       "<thead>\n",
       "\t<tr><th></th><th scope=col>T1_80</th><th scope=col>T1_90</th><th scope=col>T1_95</th><th scope=col>method</th><th scope=col>N</th></tr>\n",
       "\t<tr><th></th><th scope=col>&lt;dbl&gt;</th><th scope=col>&lt;dbl&gt;</th><th scope=col>&lt;dbl&gt;</th><th scope=col>&lt;chr&gt;</th><th scope=col>&lt;dbl&gt;</th></tr>\n",
       "</thead>\n",
       "<tbody>\n",
       "\t<tr><th scope=row>3</th><td>0.206</td><td>0.109</td><td>0.056</td><td>delta</td><td>  50</td></tr>\n",
       "\t<tr><th scope=row>31</th><td>0.225</td><td>0.105</td><td>0.060</td><td>delta</td><td> 100</td></tr>\n",
       "\t<tr><th scope=row>32</th><td>0.188</td><td>0.099</td><td>0.056</td><td>delta</td><td> 200</td></tr>\n",
       "\t<tr><th scope=row>33</th><td>0.204</td><td>0.089</td><td>0.039</td><td>delta</td><td> 400</td></tr>\n",
       "\t<tr><th scope=row>34</th><td>0.202</td><td>0.100</td><td>0.051</td><td>delta</td><td> 800</td></tr>\n",
       "\t<tr><th scope=row>35</th><td>0.176</td><td>0.076</td><td>0.048</td><td>delta</td><td>1600</td></tr>\n",
       "\t<tr><th scope=row>36</th><td>0.162</td><td>0.076</td><td>0.038</td><td>bs   </td><td>  50</td></tr>\n",
       "\t<tr><th scope=row>37</th><td>0.176</td><td>0.070</td><td>0.028</td><td>bs   </td><td> 100</td></tr>\n",
       "\t<tr><th scope=row>38</th><td>0.162</td><td>0.080</td><td>0.034</td><td>bs   </td><td> 200</td></tr>\n",
       "\t<tr><th scope=row>39</th><td>0.192</td><td>0.088</td><td>0.050</td><td>bs   </td><td> 400</td></tr>\n",
       "\t<tr><th scope=row>310</th><td>0.200</td><td>0.080</td><td>0.044</td><td>bs   </td><td> 800</td></tr>\n",
       "\t<tr><th scope=row>311</th><td>0.144</td><td>0.072</td><td>0.034</td><td>bs   </td><td>1600</td></tr>\n",
       "</tbody>\n",
       "</table>\n"
      ],
      "text/latex": [
       "A data.frame: 12 × 5\n",
       "\\begin{tabular}{r|lllll}\n",
       "  & T1\\_80 & T1\\_90 & T1\\_95 & method & N\\\\\n",
       "  & <dbl> & <dbl> & <dbl> & <chr> & <dbl>\\\\\n",
       "\\hline\n",
       "\t3 & 0.206 & 0.109 & 0.056 & delta &   50\\\\\n",
       "\t31 & 0.225 & 0.105 & 0.060 & delta &  100\\\\\n",
       "\t32 & 0.188 & 0.099 & 0.056 & delta &  200\\\\\n",
       "\t33 & 0.204 & 0.089 & 0.039 & delta &  400\\\\\n",
       "\t34 & 0.202 & 0.100 & 0.051 & delta &  800\\\\\n",
       "\t35 & 0.176 & 0.076 & 0.048 & delta & 1600\\\\\n",
       "\t36 & 0.162 & 0.076 & 0.038 & bs    &   50\\\\\n",
       "\t37 & 0.176 & 0.070 & 0.028 & bs    &  100\\\\\n",
       "\t38 & 0.162 & 0.080 & 0.034 & bs    &  200\\\\\n",
       "\t39 & 0.192 & 0.088 & 0.050 & bs    &  400\\\\\n",
       "\t310 & 0.200 & 0.080 & 0.044 & bs    &  800\\\\\n",
       "\t311 & 0.144 & 0.072 & 0.034 & bs    & 1600\\\\\n",
       "\\end{tabular}\n"
      ],
      "text/markdown": [
       "\n",
       "A data.frame: 12 × 5\n",
       "\n",
       "| <!--/--> | T1_80 &lt;dbl&gt; | T1_90 &lt;dbl&gt; | T1_95 &lt;dbl&gt; | method &lt;chr&gt; | N &lt;dbl&gt; |\n",
       "|---|---|---|---|---|---|\n",
       "| 3 | 0.206 | 0.109 | 0.056 | delta |   50 |\n",
       "| 31 | 0.225 | 0.105 | 0.060 | delta |  100 |\n",
       "| 32 | 0.188 | 0.099 | 0.056 | delta |  200 |\n",
       "| 33 | 0.204 | 0.089 | 0.039 | delta |  400 |\n",
       "| 34 | 0.202 | 0.100 | 0.051 | delta |  800 |\n",
       "| 35 | 0.176 | 0.076 | 0.048 | delta | 1600 |\n",
       "| 36 | 0.162 | 0.076 | 0.038 | bs    |   50 |\n",
       "| 37 | 0.176 | 0.070 | 0.028 | bs    |  100 |\n",
       "| 38 | 0.162 | 0.080 | 0.034 | bs    |  200 |\n",
       "| 39 | 0.192 | 0.088 | 0.050 | bs    |  400 |\n",
       "| 310 | 0.200 | 0.080 | 0.044 | bs    |  800 |\n",
       "| 311 | 0.144 | 0.072 | 0.034 | bs    | 1600 |\n",
       "\n"
      ],
      "text/plain": [
       "    T1_80 T1_90 T1_95 method N   \n",
       "3   0.206 0.109 0.056 delta    50\n",
       "31  0.225 0.105 0.060 delta   100\n",
       "32  0.188 0.099 0.056 delta   200\n",
       "33  0.204 0.089 0.039 delta   400\n",
       "34  0.202 0.100 0.051 delta   800\n",
       "35  0.176 0.076 0.048 delta  1600\n",
       "36  0.162 0.076 0.038 bs       50\n",
       "37  0.176 0.070 0.028 bs      100\n",
       "38  0.162 0.080 0.034 bs      200\n",
       "39  0.192 0.088 0.050 bs      400\n",
       "310 0.200 0.080 0.044 bs      800\n",
       "311 0.144 0.072 0.034 bs     1600"
      ]
     },
     "metadata": {},
     "output_type": "display_data"
    }
   ],
   "source": [
    "b11 <- rbind(b1, bs_50[3, 2:5], bs_100[3, 2:5], bs_200[3, 2:5], bs_400[3, 2:5], bs_800[3, 2:5], bs_1600[3, 2:5])\n",
    "b11$N <- c(50, 100, 200, 400, 800, 1600, 50, 100, 200, 400, 800, 1600)\n",
    "b11"
   ]
  },
  {
   "cell_type": "code",
   "execution_count": 83,
   "id": "31cd0895-2d50-4acf-bb28-2424a92aaae1",
   "metadata": {},
   "outputs": [
    {
     "data": {
      "text/html": [
       "<table class=\"dataframe\">\n",
       "<caption>A data.frame: 12 × 5</caption>\n",
       "<thead>\n",
       "\t<tr><th></th><th scope=col>T1_80</th><th scope=col>T1_90</th><th scope=col>T1_95</th><th scope=col>method</th><th scope=col>N</th></tr>\n",
       "\t<tr><th></th><th scope=col>&lt;dbl&gt;</th><th scope=col>&lt;dbl&gt;</th><th scope=col>&lt;dbl&gt;</th><th scope=col>&lt;chr&gt;</th><th scope=col>&lt;dbl&gt;</th></tr>\n",
       "</thead>\n",
       "<tbody>\n",
       "\t<tr><th scope=row>4</th><td>0.217</td><td>0.116</td><td>0.059</td><td>delta</td><td>  50</td></tr>\n",
       "\t<tr><th scope=row>41</th><td>0.190</td><td>0.096</td><td>0.057</td><td>delta</td><td> 100</td></tr>\n",
       "\t<tr><th scope=row>42</th><td>0.179</td><td>0.094</td><td>0.045</td><td>delta</td><td> 200</td></tr>\n",
       "\t<tr><th scope=row>43</th><td>0.190</td><td>0.096</td><td>0.048</td><td>delta</td><td> 400</td></tr>\n",
       "\t<tr><th scope=row>44</th><td>0.225</td><td>0.108</td><td>0.045</td><td>delta</td><td> 800</td></tr>\n",
       "\t<tr><th scope=row>45</th><td>0.181</td><td>0.087</td><td>0.050</td><td>delta</td><td>1600</td></tr>\n",
       "\t<tr><th scope=row>46</th><td>0.190</td><td>0.118</td><td>0.060</td><td>bs   </td><td>  50</td></tr>\n",
       "\t<tr><th scope=row>47</th><td>0.218</td><td>0.100</td><td>0.050</td><td>bs   </td><td> 100</td></tr>\n",
       "\t<tr><th scope=row>48</th><td>0.190</td><td>0.118</td><td>0.064</td><td>bs   </td><td> 200</td></tr>\n",
       "\t<tr><th scope=row>49</th><td>0.198</td><td>0.106</td><td>0.070</td><td>bs   </td><td> 400</td></tr>\n",
       "\t<tr><th scope=row>410</th><td>0.216</td><td>0.102</td><td>0.042</td><td>bs   </td><td> 800</td></tr>\n",
       "\t<tr><th scope=row>411</th><td>0.162</td><td>0.086</td><td>0.028</td><td>bs   </td><td>1600</td></tr>\n",
       "</tbody>\n",
       "</table>\n"
      ],
      "text/latex": [
       "A data.frame: 12 × 5\n",
       "\\begin{tabular}{r|lllll}\n",
       "  & T1\\_80 & T1\\_90 & T1\\_95 & method & N\\\\\n",
       "  & <dbl> & <dbl> & <dbl> & <chr> & <dbl>\\\\\n",
       "\\hline\n",
       "\t4 & 0.217 & 0.116 & 0.059 & delta &   50\\\\\n",
       "\t41 & 0.190 & 0.096 & 0.057 & delta &  100\\\\\n",
       "\t42 & 0.179 & 0.094 & 0.045 & delta &  200\\\\\n",
       "\t43 & 0.190 & 0.096 & 0.048 & delta &  400\\\\\n",
       "\t44 & 0.225 & 0.108 & 0.045 & delta &  800\\\\\n",
       "\t45 & 0.181 & 0.087 & 0.050 & delta & 1600\\\\\n",
       "\t46 & 0.190 & 0.118 & 0.060 & bs    &   50\\\\\n",
       "\t47 & 0.218 & 0.100 & 0.050 & bs    &  100\\\\\n",
       "\t48 & 0.190 & 0.118 & 0.064 & bs    &  200\\\\\n",
       "\t49 & 0.198 & 0.106 & 0.070 & bs    &  400\\\\\n",
       "\t410 & 0.216 & 0.102 & 0.042 & bs    &  800\\\\\n",
       "\t411 & 0.162 & 0.086 & 0.028 & bs    & 1600\\\\\n",
       "\\end{tabular}\n"
      ],
      "text/markdown": [
       "\n",
       "A data.frame: 12 × 5\n",
       "\n",
       "| <!--/--> | T1_80 &lt;dbl&gt; | T1_90 &lt;dbl&gt; | T1_95 &lt;dbl&gt; | method &lt;chr&gt; | N &lt;dbl&gt; |\n",
       "|---|---|---|---|---|---|\n",
       "| 4 | 0.217 | 0.116 | 0.059 | delta |   50 |\n",
       "| 41 | 0.190 | 0.096 | 0.057 | delta |  100 |\n",
       "| 42 | 0.179 | 0.094 | 0.045 | delta |  200 |\n",
       "| 43 | 0.190 | 0.096 | 0.048 | delta |  400 |\n",
       "| 44 | 0.225 | 0.108 | 0.045 | delta |  800 |\n",
       "| 45 | 0.181 | 0.087 | 0.050 | delta | 1600 |\n",
       "| 46 | 0.190 | 0.118 | 0.060 | bs    |   50 |\n",
       "| 47 | 0.218 | 0.100 | 0.050 | bs    |  100 |\n",
       "| 48 | 0.190 | 0.118 | 0.064 | bs    |  200 |\n",
       "| 49 | 0.198 | 0.106 | 0.070 | bs    |  400 |\n",
       "| 410 | 0.216 | 0.102 | 0.042 | bs    |  800 |\n",
       "| 411 | 0.162 | 0.086 | 0.028 | bs    | 1600 |\n",
       "\n"
      ],
      "text/plain": [
       "    T1_80 T1_90 T1_95 method N   \n",
       "4   0.217 0.116 0.059 delta    50\n",
       "41  0.190 0.096 0.057 delta   100\n",
       "42  0.179 0.094 0.045 delta   200\n",
       "43  0.190 0.096 0.048 delta   400\n",
       "44  0.225 0.108 0.045 delta   800\n",
       "45  0.181 0.087 0.050 delta  1600\n",
       "46  0.190 0.118 0.060 bs       50\n",
       "47  0.218 0.100 0.050 bs      100\n",
       "48  0.190 0.118 0.064 bs      200\n",
       "49  0.198 0.106 0.070 bs      400\n",
       "410 0.216 0.102 0.042 bs      800\n",
       "411 0.162 0.086 0.028 bs     1600"
      ]
     },
     "metadata": {},
     "output_type": "display_data"
    }
   ],
   "source": [
    "transformation1 <- rbind(transformation, bs_50[4, 2:5], bs_100[4, 2:5], bs_200[4, 2:5], bs_400[4, 2:5], bs_800[4, 2:5], bs_1600[4, 2:5])\n",
    "transformation1$N <- c(50, 100, 200, 400, 800, 1600, 50, 100, 200, 400, 800, 1600)\n",
    "transformation1"
   ]
  },
  {
   "cell_type": "code",
   "execution_count": null,
   "id": "b91d7ed9-f220-4a8c-a5c5-dc15496739f3",
   "metadata": {},
   "outputs": [],
   "source": []
  },
  {
   "cell_type": "code",
   "execution_count": null,
   "id": "a56885f2-58aa-4c87-be82-878e21316118",
   "metadata": {},
   "outputs": [],
   "source": []
  },
  {
   "cell_type": "code",
   "execution_count": 91,
   "id": "c30c5cdd-518d-4eeb-a8f3-34190ed2112a",
   "metadata": {},
   "outputs": [
    {
     "data": {
      "image/png": "[encoded data removed]",
      "text/plain": [
       "plot without title"
      ]
     },
     "metadata": {
      "image/png": {
       "height": 420,
       "width": 420
      }
     },
     "output_type": "display_data"
    }
   ],
   "source": [
    "ggplot(intercept1, aes(x=N, y=T1_80, fill=method)) +\n",
    "  geom_bar(stat=\"identity\", position=position_dodge(), width=50) "
   ]
  },
  {
   "cell_type": "code",
   "execution_count": 31,
   "id": "2002a845-c7aa-4399-9086-17037f7052c6",
   "metadata": {},
   "outputs": [
    {
     "data": {
      "image/png": "[encoded data removed]",
      "text/plain": [
       "plot without title"
      ]
     },
     "metadata": {
      "image/png": {
       "height": 420,
       "width": 420
      }
     },
     "output_type": "display_data"
    }
   ],
   "source": []
  },
  {
   "cell_type": "code",
   "execution_count": null,
   "id": "39e276eb-c876-4a43-b5f1-b492d8603d4b",
   "metadata": {},
   "outputs": [],
   "source": [
    "ggplot(data=df2, aes(x=dose, y=len, fill=supp)) +\n",
    "geom_bar(stat=\"identity\", position=position_dodge())"
   ]
  }
 ],
 "metadata": {
  "kernelspec": {
   "display_name": "R 4.1.0",
   "language": "R",
   "name": "ir40"
  },
  "language_info": {
   "codemirror_mode": "r",
   "file_extension": ".r",
   "mimetype": "text/x-r-source",
   "name": "R",
   "pygments_lexer": "r",
   "version": "4.1.0"
  }
 },
 "nbformat": 4,
 "nbformat_minor": 5
}
