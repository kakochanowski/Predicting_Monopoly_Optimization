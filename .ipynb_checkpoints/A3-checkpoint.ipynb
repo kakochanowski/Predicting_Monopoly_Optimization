{
 "cells": [
  {
   "cell_type": "code",
   "execution_count": 20,
   "id": "687e1d63-4325-4374-8f37-900aea02a824",
   "metadata": {},
   "outputs": [
    {
     "data": {
      "text/html": [
       "1"
      ],
      "text/latex": [
       "1"
      ],
      "text/markdown": [
       "1"
      ],
      "text/plain": [
       "[1] 1"
      ]
     },
     "metadata": {},
     "output_type": "display_data"
    }
   ],
   "source": [
    "delta <- sample(0:1, size=1, prob=c(0.4, 0.6))\n",
    "delta"
   ]
  },
  {
   "cell_type": "code",
   "execution_count": 21,
   "id": "03c21dfd-af7c-4721-be20-3d51ce56c9ae",
   "metadata": {},
   "outputs": [],
   "source": [
    "if (delta == 1) {\n",
    "    x <- rchisq(1, df = 4)\n",
    "} else if (delta == 0) {\n",
    "    x <- rchisq(1, df = 2)\n",
    "}"
   ]
  },
  {
   "cell_type": "code",
   "execution_count": 22,
   "id": "618582dc-766c-4f2d-a521-3ca8b4f5d238",
   "metadata": {},
   "outputs": [],
   "source": [
    "beta0 <- -1\n",
    "beta1 <- -1\n",
    "beta2 <- 1/2"
   ]
  },
  {
   "cell_type": "code",
   "execution_count": 23,
   "id": "4771675c-a106-41e7-9f85-742095d1f1e5",
   "metadata": {},
   "outputs": [
    {
     "data": {
      "text/html": [
       "0.850065019186055"
      ],
      "text/latex": [
       "0.850065019186055"
      ],
      "text/markdown": [
       "0.850065019186055"
      ],
      "text/plain": [
       "[1] 0.850065"
      ]
     },
     "metadata": {},
     "output_type": "display_data"
    }
   ],
   "source": [
    "lambda <- exp(beta0 + beta1*delta + beta2*x)\n",
    "lambda"
   ]
  },
  {
   "cell_type": "code",
   "execution_count": 24,
   "id": "bb9432b0-fc2f-469b-821b-58d94624e00d",
   "metadata": {},
   "outputs": [
    {
     "data": {
      "text/html": [
       "<table>\n",
       "<thead><tr><th scope=col>N</th><th scope=col>factor</th><th scope=col>measure</th></tr></thead>\n",
       "<tbody>\n",
       "\t<tr><td>   2       </td><td> TRUE      </td><td> 6.53283777</td></tr>\n",
       "\t<tr><td>   0       </td><td>FALSE      </td><td> 1.12343351</td></tr>\n",
       "\t<tr><td>   0       </td><td> TRUE      </td><td> 0.28760106</td></tr>\n",
       "\t<tr><td>   2       </td><td>FALSE      </td><td> 0.06722485</td></tr>\n",
       "\t<tr><td>   2       </td><td> TRUE      </td><td> 2.03525270</td></tr>\n",
       "\t<tr><td>   1       </td><td> TRUE      </td><td> 2.47360154</td></tr>\n",
       "\t<tr><td>   0       </td><td> TRUE      </td><td> 1.71780169</td></tr>\n",
       "\t<tr><td>   1       </td><td>FALSE      </td><td> 3.82859034</td></tr>\n",
       "\t<tr><td>  10       </td><td> TRUE      </td><td> 8.05244930</td></tr>\n",
       "\t<tr><td>   2       </td><td>FALSE      </td><td> 2.02147173</td></tr>\n",
       "\t<tr><td>   0       </td><td> TRUE      </td><td> 3.79068430</td></tr>\n",
       "\t<tr><td>   4       </td><td> TRUE      </td><td> 6.74746453</td></tr>\n",
       "\t<tr><td>   1       </td><td>FALSE      </td><td> 1.91837706</td></tr>\n",
       "\t<tr><td>   3       </td><td>FALSE      </td><td> 0.68973163</td></tr>\n",
       "\t<tr><td>   1       </td><td> TRUE      </td><td> 1.05069767</td></tr>\n",
       "\t<tr><td>   0       </td><td> TRUE      </td><td> 3.80439470</td></tr>\n",
       "\t<tr><td>   1       </td><td> TRUE      </td><td> 4.51773631</td></tr>\n",
       "\t<tr><td>   1       </td><td>FALSE      </td><td> 1.45410811</td></tr>\n",
       "\t<tr><td>   0       </td><td> TRUE      </td><td> 2.49517429</td></tr>\n",
       "\t<tr><td>   2       </td><td> TRUE      </td><td> 6.28332435</td></tr>\n",
       "\t<tr><td>   0       </td><td> TRUE      </td><td> 2.72194526</td></tr>\n",
       "\t<tr><td>1032       </td><td>FALSE      </td><td>15.88951112</td></tr>\n",
       "\t<tr><td>   0       </td><td> TRUE      </td><td> 3.59177376</td></tr>\n",
       "\t<tr><td>   0       </td><td> TRUE      </td><td> 3.32816203</td></tr>\n",
       "\t<tr><td>   0       </td><td> TRUE      </td><td> 1.17811687</td></tr>\n",
       "\t<tr><td>   1       </td><td> TRUE      </td><td> 2.96999117</td></tr>\n",
       "\t<tr><td>   2       </td><td>FALSE      </td><td> 1.28081004</td></tr>\n",
       "\t<tr><td>   0       </td><td>FALSE      </td><td> 0.14130188</td></tr>\n",
       "\t<tr><td>   3       </td><td> TRUE      </td><td> 6.31929574</td></tr>\n",
       "\t<tr><td>   0       </td><td> TRUE      </td><td> 0.74628071</td></tr>\n",
       "\t<tr><td>   1       </td><td>FALSE      </td><td> 2.56422628</td></tr>\n",
       "\t<tr><td>   0       </td><td> TRUE      </td><td> 3.99892059</td></tr>\n",
       "\t<tr><td>   3       </td><td> TRUE      </td><td> 5.60449748</td></tr>\n",
       "\t<tr><td>   4       </td><td> TRUE      </td><td> 8.16839377</td></tr>\n",
       "\t<tr><td>   1       </td><td> TRUE      </td><td> 3.49284342</td></tr>\n",
       "\t<tr><td>   1       </td><td> TRUE      </td><td> 2.25124225</td></tr>\n",
       "\t<tr><td>   8       </td><td> TRUE      </td><td> 7.14828454</td></tr>\n",
       "\t<tr><td>   0       </td><td> TRUE      </td><td> 5.33627637</td></tr>\n",
       "\t<tr><td>   1       </td><td>FALSE      </td><td> 0.08815606</td></tr>\n",
       "\t<tr><td>   0       </td><td> TRUE      </td><td> 1.84968235</td></tr>\n",
       "\t<tr><td>   2       </td><td>FALSE      </td><td> 1.43138176</td></tr>\n",
       "\t<tr><td>   1       </td><td>FALSE      </td><td> 0.25079409</td></tr>\n",
       "\t<tr><td>   0       </td><td> TRUE      </td><td> 1.14680533</td></tr>\n",
       "\t<tr><td>   3       </td><td> TRUE      </td><td> 6.79811926</td></tr>\n",
       "\t<tr><td>   1       </td><td> TRUE      </td><td> 5.19209987</td></tr>\n",
       "\t<tr><td>   1       </td><td>FALSE      </td><td> 1.01731569</td></tr>\n",
       "\t<tr><td>   0       </td><td> TRUE      </td><td> 2.85082085</td></tr>\n",
       "\t<tr><td>   0       </td><td>FALSE      </td><td> 0.85243911</td></tr>\n",
       "\t<tr><td>  16       </td><td> TRUE      </td><td> 9.11240479</td></tr>\n",
       "\t<tr><td>   0       </td><td> TRUE      </td><td> 0.89873507</td></tr>\n",
       "</tbody>\n",
       "</table>\n"
      ],
      "text/latex": [
       "\\begin{tabular}{r|lll}\n",
       " N & factor & measure\\\\\n",
       "\\hline\n",
       "\t    2        &  TRUE       &  6.53283777\\\\\n",
       "\t    0        & FALSE       &  1.12343351\\\\\n",
       "\t    0        &  TRUE       &  0.28760106\\\\\n",
       "\t    2        & FALSE       &  0.06722485\\\\\n",
       "\t    2        &  TRUE       &  2.03525270\\\\\n",
       "\t    1        &  TRUE       &  2.47360154\\\\\n",
       "\t    0        &  TRUE       &  1.71780169\\\\\n",
       "\t    1        & FALSE       &  3.82859034\\\\\n",
       "\t   10        &  TRUE       &  8.05244930\\\\\n",
       "\t    2        & FALSE       &  2.02147173\\\\\n",
       "\t    0        &  TRUE       &  3.79068430\\\\\n",
       "\t    4        &  TRUE       &  6.74746453\\\\\n",
       "\t    1        & FALSE       &  1.91837706\\\\\n",
       "\t    3        & FALSE       &  0.68973163\\\\\n",
       "\t    1        &  TRUE       &  1.05069767\\\\\n",
       "\t    0        &  TRUE       &  3.80439470\\\\\n",
       "\t    1        &  TRUE       &  4.51773631\\\\\n",
       "\t    1        & FALSE       &  1.45410811\\\\\n",
       "\t    0        &  TRUE       &  2.49517429\\\\\n",
       "\t    2        &  TRUE       &  6.28332435\\\\\n",
       "\t    0        &  TRUE       &  2.72194526\\\\\n",
       "\t 1032        & FALSE       & 15.88951112\\\\\n",
       "\t    0        &  TRUE       &  3.59177376\\\\\n",
       "\t    0        &  TRUE       &  3.32816203\\\\\n",
       "\t    0        &  TRUE       &  1.17811687\\\\\n",
       "\t    1        &  TRUE       &  2.96999117\\\\\n",
       "\t    2        & FALSE       &  1.28081004\\\\\n",
       "\t    0        & FALSE       &  0.14130188\\\\\n",
       "\t    3        &  TRUE       &  6.31929574\\\\\n",
       "\t    0        &  TRUE       &  0.74628071\\\\\n",
       "\t    1        & FALSE       &  2.56422628\\\\\n",
       "\t    0        &  TRUE       &  3.99892059\\\\\n",
       "\t    3        &  TRUE       &  5.60449748\\\\\n",
       "\t    4        &  TRUE       &  8.16839377\\\\\n",
       "\t    1        &  TRUE       &  3.49284342\\\\\n",
       "\t    1        &  TRUE       &  2.25124225\\\\\n",
       "\t    8        &  TRUE       &  7.14828454\\\\\n",
       "\t    0        &  TRUE       &  5.33627637\\\\\n",
       "\t    1        & FALSE       &  0.08815606\\\\\n",
       "\t    0        &  TRUE       &  1.84968235\\\\\n",
       "\t    2        & FALSE       &  1.43138176\\\\\n",
       "\t    1        & FALSE       &  0.25079409\\\\\n",
       "\t    0        &  TRUE       &  1.14680533\\\\\n",
       "\t    3        &  TRUE       &  6.79811926\\\\\n",
       "\t    1        &  TRUE       &  5.19209987\\\\\n",
       "\t    1        & FALSE       &  1.01731569\\\\\n",
       "\t    0        &  TRUE       &  2.85082085\\\\\n",
       "\t    0        & FALSE       &  0.85243911\\\\\n",
       "\t   16        &  TRUE       &  9.11240479\\\\\n",
       "\t    0        &  TRUE       &  0.89873507\\\\\n",
       "\\end{tabular}\n"
      ],
      "text/markdown": [
       "\n",
       "| N | factor | measure |\n",
       "|---|---|---|\n",
       "|    2        |  TRUE       |  6.53283777 |\n",
       "|    0        | FALSE       |  1.12343351 |\n",
       "|    0        |  TRUE       |  0.28760106 |\n",
       "|    2        | FALSE       |  0.06722485 |\n",
       "|    2        |  TRUE       |  2.03525270 |\n",
       "|    1        |  TRUE       |  2.47360154 |\n",
       "|    0        |  TRUE       |  1.71780169 |\n",
       "|    1        | FALSE       |  3.82859034 |\n",
       "|   10        |  TRUE       |  8.05244930 |\n",
       "|    2        | FALSE       |  2.02147173 |\n",
       "|    0        |  TRUE       |  3.79068430 |\n",
       "|    4        |  TRUE       |  6.74746453 |\n",
       "|    1        | FALSE       |  1.91837706 |\n",
       "|    3        | FALSE       |  0.68973163 |\n",
       "|    1        |  TRUE       |  1.05069767 |\n",
       "|    0        |  TRUE       |  3.80439470 |\n",
       "|    1        |  TRUE       |  4.51773631 |\n",
       "|    1        | FALSE       |  1.45410811 |\n",
       "|    0        |  TRUE       |  2.49517429 |\n",
       "|    2        |  TRUE       |  6.28332435 |\n",
       "|    0        |  TRUE       |  2.72194526 |\n",
       "| 1032        | FALSE       | 15.88951112 |\n",
       "|    0        |  TRUE       |  3.59177376 |\n",
       "|    0        |  TRUE       |  3.32816203 |\n",
       "|    0        |  TRUE       |  1.17811687 |\n",
       "|    1        |  TRUE       |  2.96999117 |\n",
       "|    2        | FALSE       |  1.28081004 |\n",
       "|    0        | FALSE       |  0.14130188 |\n",
       "|    3        |  TRUE       |  6.31929574 |\n",
       "|    0        |  TRUE       |  0.74628071 |\n",
       "|    1        | FALSE       |  2.56422628 |\n",
       "|    0        |  TRUE       |  3.99892059 |\n",
       "|    3        |  TRUE       |  5.60449748 |\n",
       "|    4        |  TRUE       |  8.16839377 |\n",
       "|    1        |  TRUE       |  3.49284342 |\n",
       "|    1        |  TRUE       |  2.25124225 |\n",
       "|    8        |  TRUE       |  7.14828454 |\n",
       "|    0        |  TRUE       |  5.33627637 |\n",
       "|    1        | FALSE       |  0.08815606 |\n",
       "|    0        |  TRUE       |  1.84968235 |\n",
       "|    2        | FALSE       |  1.43138176 |\n",
       "|    1        | FALSE       |  0.25079409 |\n",
       "|    0        |  TRUE       |  1.14680533 |\n",
       "|    3        |  TRUE       |  6.79811926 |\n",
       "|    1        |  TRUE       |  5.19209987 |\n",
       "|    1        | FALSE       |  1.01731569 |\n",
       "|    0        |  TRUE       |  2.85082085 |\n",
       "|    0        | FALSE       |  0.85243911 |\n",
       "|   16        |  TRUE       |  9.11240479 |\n",
       "|    0        |  TRUE       |  0.89873507 |\n",
       "\n"
      ],
      "text/plain": [
       "   N    factor measure    \n",
       "1     2  TRUE   6.53283777\n",
       "2     0 FALSE   1.12343351\n",
       "3     0  TRUE   0.28760106\n",
       "4     2 FALSE   0.06722485\n",
       "5     2  TRUE   2.03525270\n",
       "6     1  TRUE   2.47360154\n",
       "7     0  TRUE   1.71780169\n",
       "8     1 FALSE   3.82859034\n",
       "9    10  TRUE   8.05244930\n",
       "10    2 FALSE   2.02147173\n",
       "11    0  TRUE   3.79068430\n",
       "12    4  TRUE   6.74746453\n",
       "13    1 FALSE   1.91837706\n",
       "14    3 FALSE   0.68973163\n",
       "15    1  TRUE   1.05069767\n",
       "16    0  TRUE   3.80439470\n",
       "17    1  TRUE   4.51773631\n",
       "18    1 FALSE   1.45410811\n",
       "19    0  TRUE   2.49517429\n",
       "20    2  TRUE   6.28332435\n",
       "21    0  TRUE   2.72194526\n",
       "22 1032 FALSE  15.88951112\n",
       "23    0  TRUE   3.59177376\n",
       "24    0  TRUE   3.32816203\n",
       "25    0  TRUE   1.17811687\n",
       "26    1  TRUE   2.96999117\n",
       "27    2 FALSE   1.28081004\n",
       "28    0 FALSE   0.14130188\n",
       "29    3  TRUE   6.31929574\n",
       "30    0  TRUE   0.74628071\n",
       "31    1 FALSE   2.56422628\n",
       "32    0  TRUE   3.99892059\n",
       "33    3  TRUE   5.60449748\n",
       "34    4  TRUE   8.16839377\n",
       "35    1  TRUE   3.49284342\n",
       "36    1  TRUE   2.25124225\n",
       "37    8  TRUE   7.14828454\n",
       "38    0  TRUE   5.33627637\n",
       "39    1 FALSE   0.08815606\n",
       "40    0  TRUE   1.84968235\n",
       "41    2 FALSE   1.43138176\n",
       "42    1 FALSE   0.25079409\n",
       "43    0  TRUE   1.14680533\n",
       "44    3  TRUE   6.79811926\n",
       "45    1  TRUE   5.19209987\n",
       "46    1 FALSE   1.01731569\n",
       "47    0  TRUE   2.85082085\n",
       "48    0 FALSE   0.85243911\n",
       "49   16  TRUE   9.11240479\n",
       "50    0  TRUE   0.89873507"
      ]
     },
     "metadata": {},
     "output_type": "display_data"
    }
   ],
   "source": [
    "Ndata <- 50\n",
    "\n",
    "delta <- ifelse(runif(Ndata) < 0.4, 0, 1)\n",
    "\n",
    "x.1 <- rchisq(Ndata, df = 4)\n",
    "x.2 <- rchisq(Ndata, df = 2)\n",
    "\n",
    "x <- ifelse(delta == 1, x.1, x.2)\n",
    "\n",
    "beta <- c(-1, -1, 1/2)\n",
    "\n",
    "lambda <- exp(beta[1] + beta[2]*delta + beta[3]*x)\n",
    "\n",
    "generateY <- function(lambda.i) rpois(1, lambda = lambda.i)\n",
    "\n",
    "y <- sapply(lambda, generateY)\n",
    "\n",
    "data.Pois <- data.frame(\"N\" = y, factor = ifelse(delta == 1, TRUE, FALSE), measure = x)\n",
    "data.Pois"
   ]
  },
  {
   "cell_type": "code",
   "execution_count": 76,
   "id": "eceec7c3-69ac-4818-9431-ba79a983ad82",
   "metadata": {},
   "outputs": [
    {
     "data": {
      "text/plain": [
       "\n",
       "Call:\n",
       "glm(formula = y ~ factor + measure, family = \"poisson\", data = data.Pois)\n",
       "\n",
       "Deviance Residuals: \n",
       "    Min       1Q   Median       3Q      Max  \n",
       "-2.1342  -1.0661  -0.5700   0.6245   1.9586  \n",
       "\n",
       "Coefficients:\n",
       "            Estimate Std. Error z value Pr(>|z|)    \n",
       "(Intercept) -0.92416    0.30361  -3.044  0.00234 ** \n",
       "factorTRUE  -0.82936    0.26299  -3.154  0.00161 ** \n",
       "measure      0.46840    0.05927   7.903 2.73e-15 ***\n",
       "---\n",
       "Signif. codes:  0 ‘***’ 0.001 ‘**’ 0.01 ‘*’ 0.05 ‘.’ 0.1 ‘ ’ 1\n",
       "\n",
       "(Dispersion parameter for poisson family taken to be 1)\n",
       "\n",
       "    Null deviance: 124.305  on 49  degrees of freedom\n",
       "Residual deviance:  61.283  on 47  degrees of freedom\n",
       "AIC: 143.34\n",
       "\n",
       "Number of Fisher Scoring iterations: 5\n"
      ]
     },
     "metadata": {},
     "output_type": "display_data"
    }
   ],
   "source": [
    "glm.output <- glm(y ~ factor + measure, data=data.Pois, family=\"poisson\")\n",
    "summary(glm.output)"
   ]
  },
  {
   "cell_type": "code",
   "execution_count": 69,
   "id": "0c20a5c4",
   "metadata": {},
   "outputs": [],
   "source": [
    "simulate_lambda <- function(ndata) {\n",
    "  n = ndata\n",
    "  delta <- ifelse(runif(n) < 0.4, 0, 1)\n",
    "  beta <- c(-1, -1, 1/2)\n",
    "  x.1 <- rchisq(n, df = 4)\n",
    "  x.2 <- rchisq(n, df = 2)\n",
    "  x <- ifelse(delta == 1, x.1, x.2)\n",
    "  lambda <- exp(beta[1] + beta[2]*delta + beta[3]*x)\n",
    "  df <- as.data.frame(cbind(lambda, delta, x))\n",
    "  df\n",
    "}\n"
   ]
  },
  {
   "cell_type": "code",
   "execution_count": 70,
   "id": "da2a1513",
   "metadata": {},
   "outputs": [],
   "source": [
    "generateY <- function(lambda.i) {\n",
    "    rpois(1, lambda = lambda.i)\n",
    "}"
   ]
  },
  {
   "cell_type": "code",
   "execution_count": 71,
   "id": "9c34416c",
   "metadata": {},
   "outputs": [],
   "source": [
    "# Function that generates random draw for data specified length N\n",
    "random_draw <- function(N){\n",
    "    lengthN = N\n",
    "    simdata = as.data.frame(simulate_lambda(lengthN))\n",
    "    lambda = simdata[,1]\n",
    "    y  <- sapply(lambda, generateY)\n",
    "    finalsim <- as.data.frame(cbind(y, simdata))\n",
    "    finalsim\n",
    "}\n"
   ]
  },
  {
   "cell_type": "code",
   "execution_count": 72,
   "id": "517221f5",
   "metadata": {},
   "outputs": [
    {
     "data": {
      "text/plain": [
       "\n",
       "Call:\n",
       "glm(formula = y ~ factor + measure, family = \"poisson\", data = data.Pois)\n",
       "\n",
       "Deviance Residuals: \n",
       "    Min       1Q   Median       3Q      Max  \n",
       "-4.6253  -2.8753  -0.6191   0.0396  14.3406  \n",
       "\n",
       "Coefficients:\n",
       "            Estimate Std. Error z value Pr(>|z|)    \n",
       "(Intercept)  2.37232    0.08992  26.384   <2e-16 ***\n",
       "factorTRUE  -1.75372    0.16351 -10.725   <2e-16 ***\n",
       "measure     -0.03570    0.02418  -1.476     0.14    \n",
       "---\n",
       "Signif. codes:  0 '***' 0.001 '**' 0.01 '*' 0.05 '.' 0.1 ' ' 1\n",
       "\n",
       "(Dispersion parameter for poisson family taken to be 1)\n",
       "\n",
       "    Null deviance: 768.18  on 49  degrees of freedom\n",
       "Residual deviance: 603.18  on 47  degrees of freedom\n",
       "AIC: 694.15\n",
       "\n",
       "Number of Fisher Scoring iterations: 7\n"
      ]
     },
     "metadata": {},
     "output_type": "display_data"
    }
   ],
   "source": [
    "# Function that conducts a GLM estimate for each draw and constructs confidence intervals for parameters and transformation\n",
    "estimate <- function(n){\n",
    "    datasize = n\n",
    "    finaldata = as.data.frame(random_draw(datasize))\n",
    "    y = finaldata[,1]\n",
    "    delta = finaldata[,3]\n",
    "    x = finaldata[,4]\n",
    "    data.pois <- data.frame(\"N\" = y, factor = ifelse(delta == 1, TRUE, FALSE), measure = x)\n",
    "    glm.output <- glm(y ~ factor + measure, data=data.Pois, family=\"poisson\")\n",
    "    summary(glm.output)\n",
    "}\n",
    "\n",
    "estimate(50)"
   ]
  }
 ],
 "metadata": {
  "kernelspec": {
   "display_name": "R",
   "language": "R",
   "name": "ir"
  },
  "language_info": {
   "codemirror_mode": "r",
   "file_extension": ".r",
   "mimetype": "text/x-r-source",
   "name": "R",
   "pygments_lexer": "r",
   "version": "3.6.1"
  }
 },
 "nbformat": 4,
 "nbformat_minor": 5
}
