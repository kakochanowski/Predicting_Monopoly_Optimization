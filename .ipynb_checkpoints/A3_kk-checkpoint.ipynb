{
 "cells": [
  {
   "cell_type": "code",
   "execution_count": 238,
   "id": "4d03bc4f",
   "metadata": {},
   "outputs": [],
   "source": [
    "library(boot)"
   ]
  },
  {
   "cell_type": "code",
   "execution_count": 226,
   "id": "783387a9",
   "metadata": {},
   "outputs": [],
   "source": [
    "Ndata <- 100\n",
    "\n",
    "delta <- ifelse(runif(Ndata) < 0.4, 0, 1)\n",
    "\n",
    "x.1 <- rchisq(Ndata, df = 4)\n",
    "x.2 <- rchisq(Ndata, df = 2)\n",
    "\n",
    "x <- ifelse(delta == 1, x.1, x.2)\n",
    "\n",
    "beta <- c(-1, -1, 1/2)\n",
    "\n",
    "lambda.hat <- exp(beta[1] + beta[2]*delta + beta[3]*x)\n",
    "\n",
    "generateY <- function(lambda.i) rpois(1, lambda = lambda.i)\n",
    "\n",
    "y <- sapply(lambda, generateY)\n",
    "\n",
    "data.Pois <- data.frame(\"N\" = y, lambda.hat = lambda, factor = delta, measure = x)\n",
    "glm.output <- glm(N ~ factor + measure, data=data.Pois, family=\"poisson\")\n"
   ]
  },
  {
   "cell_type": "code",
   "execution_count": 229,
   "id": "bb5fc6a1",
   "metadata": {},
   "outputs": [],
   "source": [
    "# function that generates random draw for data of specified length\n",
    "random_draw <- function(ndata) {\n",
    "  gen_y <- data.frame()\n",
    "  n = ndata\n",
    "  delta <- rbinom(n,1,prob=0.6)\n",
    "  beta <- c(-1, -1, 1/2)\n",
    "  x.1 <- rchisq(n, df = 4)\n",
    "  x.2 <- rchisq(n, df = 2)\n",
    "  x <- ifelse(delta == 1, x.1, x.2)\n",
    "  lambda.hat <- exp(beta[1] + beta[2]*delta + beta[3]*x)\n",
    "  df <- as.data.frame(cbind(lambda, delta, x))\n",
    "  Y <- rpois(ndata, lambda = lambda.hat)\n",
    "  df <- as.data.frame(cbind(Y, df))\n",
    "  df\n",
    "}"
   ]
  },
  {
   "cell_type": "code",
   "execution_count": 236,
   "id": "32448740",
   "metadata": {},
   "outputs": [
    {
     "data": {
      "text/html": [
       "<table>\n",
       "<thead><tr><th scope=col>Y</th><th scope=col>lambda</th><th scope=col>delta</th><th scope=col>x</th></tr></thead>\n",
       "<tbody>\n",
       "\t<tr><td> 2       </td><td>1.1714813</td><td>1        </td><td>5.507764 </td></tr>\n",
       "\t<tr><td> 1       </td><td>0.3522979</td><td>1        </td><td>1.565530 </td></tr>\n",
       "\t<tr><td> 0       </td><td>0.8125355</td><td>1        </td><td>2.027902 </td></tr>\n",
       "\t<tr><td> 1       </td><td>0.6091049</td><td>0        </td><td>1.007985 </td></tr>\n",
       "\t<tr><td>13       </td><td>0.7390870</td><td>1        </td><td>8.585706 </td></tr>\n",
       "\t<tr><td> 6       </td><td>3.4228659</td><td>1        </td><td>6.806052 </td></tr>\n",
       "</tbody>\n",
       "</table>\n"
      ],
      "text/latex": [
       "\\begin{tabular}{r|llll}\n",
       " Y & lambda & delta & x\\\\\n",
       "\\hline\n",
       "\t  2        & 1.1714813 & 1         & 5.507764 \\\\\n",
       "\t  1        & 0.3522979 & 1         & 1.565530 \\\\\n",
       "\t  0        & 0.8125355 & 1         & 2.027902 \\\\\n",
       "\t  1        & 0.6091049 & 0         & 1.007985 \\\\\n",
       "\t 13        & 0.7390870 & 1         & 8.585706 \\\\\n",
       "\t  6        & 3.4228659 & 1         & 6.806052 \\\\\n",
       "\\end{tabular}\n"
      ],
      "text/markdown": [
       "\n",
       "| Y | lambda | delta | x |\n",
       "|---|---|---|---|\n",
       "|  2        | 1.1714813 | 1         | 5.507764  |\n",
       "|  1        | 0.3522979 | 1         | 1.565530  |\n",
       "|  0        | 0.8125355 | 1         | 2.027902  |\n",
       "|  1        | 0.6091049 | 0         | 1.007985  |\n",
       "| 13        | 0.7390870 | 1         | 8.585706  |\n",
       "|  6        | 3.4228659 | 1         | 6.806052  |\n",
       "\n"
      ],
      "text/plain": [
       "  Y  lambda    delta x       \n",
       "1  2 1.1714813 1     5.507764\n",
       "2  1 0.3522979 1     1.565530\n",
       "3  0 0.8125355 1     2.027902\n",
       "4  1 0.6091049 0     1.007985\n",
       "5 13 0.7390870 1     8.585706\n",
       "6  6 3.4228659 1     6.806052"
      ]
     },
     "metadata": {},
     "output_type": "display_data"
    }
   ],
   "source": [
    "set.seed(10)\n",
    "pois.data = random_draw(1000)\n",
    "head(pois.data)"
   ]
  },
  {
   "cell_type": "markdown",
   "id": "3dc470a5",
   "metadata": {},
   "source": [
    "**Delta-Method**"
   ]
  },
  {
   "cell_type": "code",
   "execution_count": 190,
   "id": "1e21c2e2",
   "metadata": {},
   "outputs": [
    {
     "ename": "ERROR",
     "evalue": "Error in parse(text = x, srcfile = src): <text>:7:40: unexpected symbol\n6:     beta.hat <- coef(glm.output)\n7:     sigma.hat <- vcov(glm.output) (how much\n                                          ^\n",
     "output_type": "error",
     "traceback": [
      "Error in parse(text = x, srcfile = src): <text>:7:40: unexpected symbol\n6:     beta.hat <- coef(glm.output)\n7:     sigma.hat <- vcov(glm.output) (how much\n                                          ^\nTraceback:\n"
     ]
    }
   ],
   "source": [
    "# function that conducts a GLM estimate for each draw and constructs confidence intervals for parameters and transformation\n",
    "estimate <- function(data){\n",
    "    # # run GLM function (linear predictor)\n",
    "    df = as.data.frame(data)\n",
    "    glm.output <- glm(Y ~ delta + x, data = df, family=\"poisson\")\n",
    "    beta.hat <- coef(glm.output)\n",
    "    sigma.hat <- vcov(glm.output) (how much variability do we have on the parameter)\n",
    "    fitted.values <- glm.output$fitted.values, \n",
    "    linear.predictors <- glm.output$linear.predictors\n",
    "    \n",
    "    # link function tells us how linear predictor relates to the average value of y\n",
    "    log of the average outcome is giving us the GLM,\n",
    "    how is the mean related to linear predictor (inverse of log is an exponential) - multiplicative model of the components\n",
    "    \n",
    "    # # construct confidence intervals for parameters (Y as a function of the GLM coefficients)\n",
    "    # coefficients are expressed as log-odds (link fxn of poisson)\n",
    "    derivative of transformationa nd then apply var/covar matrix to construct confidence interval \n",
    "    \n",
    "    # # construct confidence intervals for transformation (Y as a function of the GLM coefficients (which have variance and covariance))\n",
    "    # MLE (FOC)\n",
    "    vector = c(beta.hat[1], beta.hat[2])\n",
    "    #Numerical derivative function for delta method\n",
    "    numerical.derivative<- function(estimation.fxn, FOC) {\n",
    "    nn <- length(x)\n",
    "    dx <- rep(NaN, nn)\n",
    "    for (i in 1:nn) {\n",
    "        eps <- rep(0,nn)\n",
    "        eps[i] <- 1e-6\n",
    "        dx[i] <- (fun(x+eps)-fun(x-eps))/(2e-6)\n",
    "        }\n",
    "    return(dx)}\n",
    "    \n",
    "    # Take SOC for var/cvar matrix\n",
    "    vb <- vcov(glm.output)\n",
    "    \n",
    "    \n",
    "}\n",
    "\n",
    "estimate(pois.data)"
   ]
  },
  {
   "cell_type": "markdown",
   "id": "9f5a9808",
   "metadata": {},
   "source": [
    "**Bootstrap Method**"
   ]
  },
  {
   "cell_type": "code",
   "execution_count": 223,
   "id": "2a510e8d",
   "metadata": {},
   "outputs": [],
   "source": [
    "# # Functions for boostrap fxn\n",
    "\n",
    "# Return the probability of a 1 or 0 when x1=1, and  x2=4\n",
    "prob.pois.0 <-  function( beta ) {\n",
    "    dpois(0,lambda=exp(beta[1]+beta[2]+4*beta[3])) + dpois(1,lambda=exp(beta[1]+beta[2]+4*beta[3]))\n",
    "} \n",
    "\n",
    "# defining function to generate data and return parameter coefficients\n",
    "pois.bootstrap <- function(formula, data, indices) {\n",
    "  d <- data[indices,]\n",
    "  pois.fit <- glm(formula, data=d, family=\"poisson\")\n",
    "  return(coef(pois.fit))\n",
    "}\n",
    "\n",
    "# defining function to generate data and return transformation output\n",
    "pois.bootstrap.transformation <- function(formula, data, indices) {\n",
    "  d <- data[indices,]\n",
    "  pois.fit <- glm(formula, data=d, family=\"poisson\")\n",
    "  prob.pois.0 <-  function( beta ) {\n",
    "    dpois(0,lambda=exp(beta[1]+beta[2]+4*beta[3])) + dpois(1,lambda=exp(beta[1]+beta[2]+4*beta[3]))\n",
    "    } \n",
    "  return(prob.pois.0(coef(pois.fit)))\n",
    "}"
   ]
  },
  {
   "cell_type": "code",
   "execution_count": 240,
   "id": "aa07bfc3",
   "metadata": {},
   "outputs": [],
   "source": [
    "# # Bootstrap function\n",
    "bs_method_ <- function(data, n){\n",
    "# # parameters\n",
    "bootstrap.results_p <- boot(statistic=pois.bootstrap, data=data, R = n, formula=Y~delta+x)\n",
    "bs.distribution <- bootstrap.results_p$t\n",
    "\n",
    "bootstrap.out <-c(\"int_est\"=mean(bs.distribution[,1]),\n",
    "                   \"int_se\"= sd(bs.distribution[,1]),\n",
    "                   \"int_lowconf97.5\"=quantile(bs.distribution[,1],0.025,names=FALSE), \n",
    "                   \"int_upconf97.5\"=quantile(bs.distribution[,1],0.975,names=FALSE),\n",
    "                    \"int_lowconf95\"=quantile(bs.distribution[,1],0.05,names=FALSE),\n",
    "                    \"int_upconf95\"=quantile(bs.distribution[,1],0.95,names=FALSE),\n",
    "                    \"int_lowconf90\"=quantile(bs.distribution[,1],0.1,names=FALSE),\n",
    "                    \"int_upconf90\"=quantile(bs.distribution[,1],0.1,names=FALSE),\n",
    "                    # B0\n",
    "                    \"b0_est\"=mean(bs.distribution[,2]),\n",
    "                    \"b0_se\"= sd(bs.distribution[,2]),\n",
    "                    \"b0_lowconf97.5\"=quantile(bs.distribution[,2],0.025,names=FALSE), \n",
    "                    \"b0_upconf97.5\"=quantile(bs.distribution[,2],0.975,names=FALSE),\n",
    "                    \"b0_lowconf95\"=quantile(bs.distribution[,2],0.05,names=FALSE),\n",
    "                    \"b0_upconf95\"=quantile(bs.distribution[,2],0.95,names=FALSE),\n",
    "                    \"b0_lowconf90\"=quantile(bs.distribution[,2],0.1,names=FALSE),\n",
    "                    \"b0_upconf90\"=quantile(bs.distribution[,2],0.1,names=FALSE),\n",
    "                    # B1\n",
    "                    \"b1_est\"=mean(bs.distribution[,3]),\n",
    "                    \"b1_se\"= sd(bs.distribution[,3]),\n",
    "                    \"b1_lowconf97.5\"=quantile(bs.distribution[,3],0.025,names=FALSE), \n",
    "                    \"b1_upconf97.5\"=quantile(bs.distribution[,3],0.975,names=FALSE),\n",
    "                    \"b1_lowconf95\"=quantile(bs.distribution[,3],0.05,names=FALSE),\n",
    "                    \"b1_upconf95\"=quantile(bs.distribution[,3],0.95,names=FALSE),\n",
    "                    \"b1_lowconf90\"=quantile(bs.distribution[,3],0.1,names=FALSE),\n",
    "                    \"b1_upconf90\"=quantile(bs.distribution[,3],0.1,names=FALSE))\n",
    "bootstrap.results.df <- as.data.frame(matrix(bootstrap.out, nrow=3, ncol=8, byrow=TRUE))\n",
    "colnames(bootstrap.results.df) <- c(\"estimate\", \"se\", \"2.5\", \"97.5\", \"5\", \"95\",\"10\",\"90\")\n",
    "rownames(bootstrap.results.df) <- c(\"intercept\", \"b0\", \"b1\")\n",
    "\n",
    "# # transformation\n",
    "bootstrap.results_t <- boot(statistic=pois.bootstrap.transformation, data=data, R = n, formula=Y~delta+x)\n",
    "bs.transformation.distribution <- bootstrap.results_t$t\n",
    "    \n",
    "bootstrap.out.transformation <- c(mean(bs.transformation.distribution),\n",
    "                    sd(bs.transformation.distribution),\n",
    "                    quantile(bs.transformation.distribution,0.025,names=FALSE), \n",
    "                    quantile(bs.transformation.distribution,0.975,names=FALSE),\n",
    "                    quantile(bs.transformation.distribution,0.05,names=FALSE), \n",
    "                    quantile(bs.transformation.distribution,0.95,names=FALSE),\n",
    "                    quantile(bs.transformation.distribution,0.10,names=FALSE), \n",
    "                    quantile(bs.transformation.distribution,0.90,names=FALSE))\n",
    "bootstrap.results.df <- rbind(bootstrap.results.df, bootstrap.out.transformation)\n",
    "rownames(bootstrap.results.df) <- c(\"intercept\", \"b0\", \"b1\", \"transformation\")\n",
    "bootstrap.results.df\n",
    "}"
   ]
  },
  {
   "cell_type": "code",
   "execution_count": 241,
   "id": "c76363ed",
   "metadata": {},
   "outputs": [
    {
     "data": {
      "text/html": [
       "<table>\n",
       "<thead><tr><th></th><th scope=col>estimate</th><th scope=col>se</th><th scope=col>2.5</th><th scope=col>97.5</th><th scope=col>5</th><th scope=col>95</th><th scope=col>10</th><th scope=col>90</th></tr></thead>\n",
       "<tbody>\n",
       "\t<tr><th scope=row>intercept</th><td>-1.0062620 </td><td>0.044629503</td><td>-1.0881297 </td><td>-0.9083598 </td><td>-1.0760499 </td><td>-0.9323413 </td><td>-1.0608699 </td><td>-1.0608699 </td></tr>\n",
       "\t<tr><th scope=row>b0</th><td>-1.0375800 </td><td>0.040068426</td><td>-1.1285373 </td><td>-0.9714247 </td><td>-1.1140475 </td><td>-0.9802946 </td><td>-1.0931305 </td><td>-1.0931305 </td></tr>\n",
       "\t<tr><th scope=row>b1</th><td> 0.5031088 </td><td>0.004259117</td><td> 0.4950487 </td><td> 0.5115779 </td><td> 0.4965461 </td><td> 0.5103697 </td><td> 0.4977836 </td><td> 0.4977836 </td></tr>\n",
       "\t<tr><th scope=row>transformation</th><td> 0.7464756 </td><td>0.011303477</td><td> 0.7249114 </td><td> 0.7701013 </td><td> 0.7276842 </td><td> 0.7657843 </td><td> 0.7322286 </td><td> 0.7613845 </td></tr>\n",
       "</tbody>\n",
       "</table>\n"
      ],
      "text/latex": [
       "\\begin{tabular}{r|llllllll}\n",
       "  & estimate & se & 2.5 & 97.5 & 5 & 95 & 10 & 90\\\\\n",
       "\\hline\n",
       "\tintercept & -1.0062620  & 0.044629503 & -1.0881297  & -0.9083598  & -1.0760499  & -0.9323413  & -1.0608699  & -1.0608699 \\\\\n",
       "\tb0 & -1.0375800  & 0.040068426 & -1.1285373  & -0.9714247  & -1.1140475  & -0.9802946  & -1.0931305  & -1.0931305 \\\\\n",
       "\tb1 &  0.5031088  & 0.004259117 &  0.4950487  &  0.5115779  &  0.4965461  &  0.5103697  &  0.4977836  &  0.4977836 \\\\\n",
       "\ttransformation &  0.7464756  & 0.011303477 &  0.7249114  &  0.7701013  &  0.7276842  &  0.7657843  &  0.7322286  &  0.7613845 \\\\\n",
       "\\end{tabular}\n"
      ],
      "text/markdown": [
       "\n",
       "| <!--/--> | estimate | se | 2.5 | 97.5 | 5 | 95 | 10 | 90 |\n",
       "|---|---|---|---|---|---|---|---|---|\n",
       "| intercept | -1.0062620  | 0.044629503 | -1.0881297  | -0.9083598  | -1.0760499  | -0.9323413  | -1.0608699  | -1.0608699  |\n",
       "| b0 | -1.0375800  | 0.040068426 | -1.1285373  | -0.9714247  | -1.1140475  | -0.9802946  | -1.0931305  | -1.0931305  |\n",
       "| b1 |  0.5031088  | 0.004259117 |  0.4950487  |  0.5115779  |  0.4965461  |  0.5103697  |  0.4977836  |  0.4977836  |\n",
       "| transformation |  0.7464756  | 0.011303477 |  0.7249114  |  0.7701013  |  0.7276842  |  0.7657843  |  0.7322286  |  0.7613845  |\n",
       "\n"
      ],
      "text/plain": [
       "               estimate   se          2.5        97.5       5         \n",
       "intercept      -1.0062620 0.044629503 -1.0881297 -0.9083598 -1.0760499\n",
       "b0             -1.0375800 0.040068426 -1.1285373 -0.9714247 -1.1140475\n",
       "b1              0.5031088 0.004259117  0.4950487  0.5115779  0.4965461\n",
       "transformation  0.7464756 0.011303477  0.7249114  0.7701013  0.7276842\n",
       "               95         10         90        \n",
       "intercept      -0.9323413 -1.0608699 -1.0608699\n",
       "b0             -0.9802946 -1.0931305 -1.0931305\n",
       "b1              0.5103697  0.4977836  0.4977836\n",
       "transformation  0.7657843  0.7322286  0.7613845"
      ]
     },
     "metadata": {},
     "output_type": "display_data"
    }
   ],
   "source": [
    "bs_method_(pois.data, 1000)"
   ]
  },
  {
   "cell_type": "markdown",
   "id": "623d2822",
   "metadata": {},
   "source": [
    "**Compare to Asymptotic Normal** "
   ]
  },
  {
   "cell_type": "code",
   "execution_count": null,
   "id": "471126ba",
   "metadata": {},
   "outputs": [],
   "source": [
    "round(\n",
    "    cbind(simulation=simulation.out,delta.method=delta.method.out,bootstrap=bootstrap.out),4)"
   ]
  },
  {
   "cell_type": "code",
   "execution_count": null,
   "id": "f0c6b3ca",
   "metadata": {},
   "outputs": [],
   "source": [
    "# define the function for parameter transformation (probability y<2)\n",
    "prob.pois.0 <-  function( beta ) {\n",
    "    dpois(0,lambda=exp(beta[1]+beta[2]+4*beta[3])) + dpois(1,lambda=exp(beta[1]+beta[2]+4*beta[3]))\n",
    "} \n",
    "\n",
    "exp(beta[1] + beta[2]*delta + beta[3]*x)\n",
    "\n",
    "pois.bootstrap <- function(formula, data, indices) {\n",
    "  d <- data[indices,]\n",
    "  pois.fit <- glm(formula, data=d,family=\"poisson\")\n",
    "  return(coef(pois.fit))\n",
    "}\n",
    "\n",
    "  # Return the probability of a 0 when x1=1, and  x2=-2\n",
    "  return( prob.pois.0(coef(pois.fit)) ) \n",
    "\n",
    "bs.results.prob.0 <- boot(data=data.Pois, statistic=pois.bs,\n",
    "   R=1000, formula=y~x1+x2)\n",
    "\n",
    "bs.distribution <- bs.results.prob.0$t\n",
    "\n",
    "base + geom_histogram(aes(x=bs.distribution,y = ..density..),binwidth=0.005,color=Pitt.Blue,fill=Pitt.Gold,size=2)+xlab(\"Outcome Prob\")+ylab(\"Density\")\n",
    "\n",
    "bootstrap.out <-c(\"estimate\"=mean(bs.distribution),\n",
    "                   \"std.err\"= sd(bs.distribution),\n",
    "                   \"lower.conf\"=quantile(bs.distribution,0.025,names=FALSE), # I set names FALSE here to stop quantile names being appended\n",
    "                   \"upper.conf\"=quantile(bs.distribution,0.975,names=FALSE))\n",
    "bootstrap.out\n",
    "\n",
    "round(\n",
    "    cbind(simulation=simulation.out,delta.method=delta.method.out,bootstrap=bootstrap.out),4)\n",
    "\n",
    "boot.ci(bs.results,type=\"bca\",index=3) #  x2\n",
    "\n",
    "bs.Sigma <- cov( bs.results$t) # get the covariance matrix\n",
    "rownames(bs.Sigma) <- c(\"(Intercept)\",\"x1\",\"x2\")\n",
    "colnames(bs.Sigma) <- c(\"(Intercept)\",\"x1\",\"x2\")\n",
    "bs.Sigma # Matrix\n",
    "\n",
    "Sigma.hat # Matrix\n",
    "\n",
    "sqrt(diag(bs.Sigma)) # Std. Errors for each parameter in isolation bootstrap\n",
    "sqrt(diag(Sigma.hat)) # Std. Errors for each parameter in isolation delta method"
   ]
  }
 ],
 "metadata": {
  "kernelspec": {
   "display_name": "R",
   "language": "R",
   "name": "ir"
  },
  "language_info": {
   "codemirror_mode": "r",
   "file_extension": ".r",
   "mimetype": "text/x-r-source",
   "name": "R",
   "pygments_lexer": "r",
   "version": "3.6.1"
  }
 },
 "nbformat": 4,
 "nbformat_minor": 5
}
