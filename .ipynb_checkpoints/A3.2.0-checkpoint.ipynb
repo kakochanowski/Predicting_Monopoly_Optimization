{
 "cells": [
  {
   "cell_type": "code",
   "execution_count": 36,
   "id": "687e1d63-4325-4374-8f37-900aea02a824",
   "metadata": {},
   "outputs": [
    {
     "data": {
      "text/html": [
       "1"
      ],
      "text/latex": [
       "1"
      ],
      "text/markdown": [
       "1"
      ],
      "text/plain": [
       "[1] 1"
      ]
     },
     "metadata": {},
     "output_type": "display_data"
    }
   ],
   "source": [
    "delta <- sample(0:1, size=1, prob=c(0.4, 0.6))\n",
    "delta"
   ]
  },
  {
   "cell_type": "code",
   "execution_count": 37,
   "id": "03c21dfd-af7c-4721-be20-3d51ce56c9ae",
   "metadata": {},
   "outputs": [],
   "source": [
    "if (delta == 1) {\n",
    "    x <- rchisq(1, df = 4)\n",
    "} else if (delta == 0) {\n",
    "    x <- rchisq(1, df = 2)\n",
    "}"
   ]
  },
  {
   "cell_type": "code",
   "execution_count": 38,
   "id": "618582dc-766c-4f2d-a521-3ca8b4f5d238",
   "metadata": {},
   "outputs": [],
   "source": [
    "beta0 <- -1\n",
    "beta1 <- -1\n",
    "beta2 <- 1/2"
   ]
  },
  {
   "cell_type": "code",
   "execution_count": 39,
   "id": "4771675c-a106-41e7-9f85-742095d1f1e5",
   "metadata": {},
   "outputs": [
    {
     "data": {
      "text/html": [
       "1.55215344186612"
      ],
      "text/latex": [
       "1.55215344186612"
      ],
      "text/markdown": [
       "1.55215344186612"
      ],
      "text/plain": [
       "[1] 1.552153"
      ]
     },
     "metadata": {},
     "output_type": "display_data"
    }
   ],
   "source": [
    "lambda <- exp(beta0 + beta1*delta + beta2*x)\n",
    "lambda"
   ]
  },
  {
   "cell_type": "code",
   "execution_count": 118,
   "id": "bb9432b0-fc2f-469b-821b-58d94624e00d",
   "metadata": {},
   "outputs": [],
   "source": [
    "Ndata <- 50\n",
    "\n",
    "delta <- ifelse(runif(Ndata) < 0.4, 0, 1)\n",
    "\n",
    "x.1 <- rchisq(Ndata, df = 4)\n",
    "x.2 <- rchisq(Ndata, df = 2)\n",
    "\n",
    "x <- ifelse(delta == 1, x.1, x.2)\n",
    "\n",
    "beta <- c(-1, -1, 1/2)\n",
    "\n",
    "lambda <- exp(beta[1] + beta[2]*delta + beta[3]*x)\n",
    "\n",
    "generateY <- function(lambda.i) rpois(1, lambda = lambda.i)\n",
    "\n",
    "y <- sapply(lambda, generateY)\n",
    "\n",
    "data.Pois <- data.frame(\"N\" = y, factor = ifelse(delta == 1, TRUE, FALSE), measure = x)"
   ]
  },
  {
   "cell_type": "code",
   "execution_count": 119,
   "id": "eceec7c3-69ac-4818-9431-ba79a983ad82",
   "metadata": {},
   "outputs": [
    {
     "data": {
      "text/plain": [
       "\n",
       "Call:\n",
       "glm(formula = y ~ factor + measure, family = \"poisson\", data = data.Pois)\n",
       "\n",
       "Deviance Residuals: \n",
       "    Min       1Q   Median       3Q      Max  \n",
       "-2.4395  -0.9908  -0.5874   0.4872   3.2830  \n",
       "\n",
       "Coefficients:\n",
       "            Estimate Std. Error z value Pr(>|z|)    \n",
       "(Intercept) -0.75516    0.20136  -3.750 0.000177 ***\n",
       "factorTRUE  -1.38392    0.29184  -4.742 2.12e-06 ***\n",
       "measure      0.50518    0.03354  15.064  < 2e-16 ***\n",
       "---\n",
       "Signif. codes:  0 ‘***’ 0.001 ‘**’ 0.01 ‘*’ 0.05 ‘.’ 0.1 ‘ ’ 1\n",
       "\n",
       "(Dispersion parameter for poisson family taken to be 1)\n",
       "\n",
       "    Null deviance: 334.120  on 49  degrees of freedom\n",
       "Residual deviance:  64.116  on 47  degrees of freedom\n",
       "AIC: 146.51\n",
       "\n",
       "Number of Fisher Scoring iterations: 5\n"
      ]
     },
     "metadata": {},
     "output_type": "display_data"
    }
   ],
   "source": [
    "glm.output <- glm(y ~ factor + measure, data=data.Pois, family=\"poisson\")\n",
    "summary(glm.output)"
   ]
  },
  {
   "cell_type": "code",
   "execution_count": 120,
   "id": "4032543a-bfc8-4e03-bc0f-e058db06953a",
   "metadata": {},
   "outputs": [
    {
     "data": {
      "text/html": [
       "<table class=\"dataframe\">\n",
       "<caption>A data.frame: 3 × 2</caption>\n",
       "<thead>\n",
       "\t<tr><th></th><th scope=col>Estimate</th><th scope=col>Std..Error</th></tr>\n",
       "\t<tr><th></th><th scope=col>&lt;dbl&gt;</th><th scope=col>&lt;dbl&gt;</th></tr>\n",
       "</thead>\n",
       "<tbody>\n",
       "\t<tr><th scope=row>(Intercept)</th><td>-0.7551622</td><td>0.20136127</td></tr>\n",
       "\t<tr><th scope=row>factorTRUE</th><td>-1.3839223</td><td>0.29184414</td></tr>\n",
       "\t<tr><th scope=row>measure</th><td> 0.5051831</td><td>0.03353592</td></tr>\n",
       "</tbody>\n",
       "</table>\n"
      ],
      "text/latex": [
       "A data.frame: 3 × 2\n",
       "\\begin{tabular}{r|ll}\n",
       "  & Estimate & Std..Error\\\\\n",
       "  & <dbl> & <dbl>\\\\\n",
       "\\hline\n",
       "\t(Intercept) & -0.7551622 & 0.20136127\\\\\n",
       "\tfactorTRUE & -1.3839223 & 0.29184414\\\\\n",
       "\tmeasure &  0.5051831 & 0.03353592\\\\\n",
       "\\end{tabular}\n"
      ],
      "text/markdown": [
       "\n",
       "A data.frame: 3 × 2\n",
       "\n",
       "| <!--/--> | Estimate &lt;dbl&gt; | Std..Error &lt;dbl&gt; |\n",
       "|---|---|---|\n",
       "| (Intercept) | -0.7551622 | 0.20136127 |\n",
       "| factorTRUE | -1.3839223 | 0.29184414 |\n",
       "| measure |  0.5051831 | 0.03353592 |\n",
       "\n"
      ],
      "text/plain": [
       "            Estimate   Std..Error\n",
       "(Intercept) -0.7551622 0.20136127\n",
       "factorTRUE  -1.3839223 0.29184414\n",
       "measure      0.5051831 0.03353592"
      ]
     },
     "metadata": {},
     "output_type": "display_data"
    }
   ],
   "source": [
    "outcome <- data.frame(summary(glm.output)$coefficients)[,1:2]\n",
    "outcome"
   ]
  },
  {
   "cell_type": "code",
   "execution_count": 121,
   "id": "e1f34405-bdf3-485a-8444-327dd0df2b36",
   "metadata": {},
   "outputs": [
    {
     "data": {
      "text/html": [
       "<table class=\"dataframe\">\n",
       "<caption>A data.frame: 3 × 8</caption>\n",
       "<thead>\n",
       "\t<tr><th></th><th scope=col>Estimate</th><th scope=col>Std..Error</th><th scope=col>CV80_</th><th scope=col>CV80</th><th scope=col>CV90_</th><th scope=col>CV90</th><th scope=col>CV95_</th><th scope=col>CV95</th></tr>\n",
       "\t<tr><th></th><th scope=col>&lt;dbl&gt;</th><th scope=col>&lt;dbl&gt;</th><th scope=col>&lt;dbl&gt;</th><th scope=col>&lt;dbl&gt;</th><th scope=col>&lt;dbl&gt;</th><th scope=col>&lt;dbl&gt;</th><th scope=col>&lt;dbl&gt;</th><th scope=col>&lt;dbl&gt;</th></tr>\n",
       "</thead>\n",
       "<tbody>\n",
       "\t<tr><th scope=row>(Intercept)</th><td>-0.7551622</td><td>0.20136127</td><td>-1.0133073</td><td>-0.4970170</td><td>-1.0864015</td><td>-0.4239229</td><td>-1.1498303</td><td>-0.3604941</td></tr>\n",
       "\t<tr><th scope=row>factorTRUE</th><td>-1.3839223</td><td>0.29184414</td><td>-1.7580665</td><td>-1.0097781</td><td>-1.8640059</td><td>-0.9038387</td><td>-1.9559368</td><td>-0.8119078</td></tr>\n",
       "\t<tr><th scope=row>measure</th><td> 0.5051831</td><td>0.03353592</td><td> 0.4621901</td><td> 0.5481762</td><td> 0.4500166</td><td> 0.5603497</td><td> 0.4394527</td><td> 0.5709136</td></tr>\n",
       "</tbody>\n",
       "</table>\n"
      ],
      "text/latex": [
       "A data.frame: 3 × 8\n",
       "\\begin{tabular}{r|llllllll}\n",
       "  & Estimate & Std..Error & CV80\\_ & CV80 & CV90\\_ & CV90 & CV95\\_ & CV95\\\\\n",
       "  & <dbl> & <dbl> & <dbl> & <dbl> & <dbl> & <dbl> & <dbl> & <dbl>\\\\\n",
       "\\hline\n",
       "\t(Intercept) & -0.7551622 & 0.20136127 & -1.0133073 & -0.4970170 & -1.0864015 & -0.4239229 & -1.1498303 & -0.3604941\\\\\n",
       "\tfactorTRUE & -1.3839223 & 0.29184414 & -1.7580665 & -1.0097781 & -1.8640059 & -0.9038387 & -1.9559368 & -0.8119078\\\\\n",
       "\tmeasure &  0.5051831 & 0.03353592 &  0.4621901 &  0.5481762 &  0.4500166 &  0.5603497 &  0.4394527 &  0.5709136\\\\\n",
       "\\end{tabular}\n"
      ],
      "text/markdown": [
       "\n",
       "A data.frame: 3 × 8\n",
       "\n",
       "| <!--/--> | Estimate &lt;dbl&gt; | Std..Error &lt;dbl&gt; | CV80_ &lt;dbl&gt; | CV80 &lt;dbl&gt; | CV90_ &lt;dbl&gt; | CV90 &lt;dbl&gt; | CV95_ &lt;dbl&gt; | CV95 &lt;dbl&gt; |\n",
       "|---|---|---|---|---|---|---|---|---|\n",
       "| (Intercept) | -0.7551622 | 0.20136127 | -1.0133073 | -0.4970170 | -1.0864015 | -0.4239229 | -1.1498303 | -0.3604941 |\n",
       "| factorTRUE | -1.3839223 | 0.29184414 | -1.7580665 | -1.0097781 | -1.8640059 | -0.9038387 | -1.9559368 | -0.8119078 |\n",
       "| measure |  0.5051831 | 0.03353592 |  0.4621901 |  0.5481762 |  0.4500166 |  0.5603497 |  0.4394527 |  0.5709136 |\n",
       "\n"
      ],
      "text/plain": [
       "            Estimate   Std..Error CV80_      CV80       CV90_      CV90      \n",
       "(Intercept) -0.7551622 0.20136127 -1.0133073 -0.4970170 -1.0864015 -0.4239229\n",
       "factorTRUE  -1.3839223 0.29184414 -1.7580665 -1.0097781 -1.8640059 -0.9038387\n",
       "measure      0.5051831 0.03353592  0.4621901  0.5481762  0.4500166  0.5603497\n",
       "            CV95_      CV95      \n",
       "(Intercept) -1.1498303 -0.3604941\n",
       "factorTRUE  -1.9559368 -0.8119078\n",
       "measure      0.4394527  0.5709136"
      ]
     },
     "metadata": {},
     "output_type": "display_data"
    }
   ],
   "source": [
    "outcome$CV80_ <- outcome$Estimate - 1.282*outcome$Std..Error\n",
    "outcome$CV80 <- outcome$Estimate + 1.282*outcome$Std..Error\n",
    "\n",
    "outcome$CV90_ <- outcome$Estimate - 1.645*outcome$Std..Error\n",
    "outcome$CV90 <- outcome$Estimate + 1.645*outcome$Std..Error\n",
    "\n",
    "outcome$CV95_ <- outcome$Estimate - 1.960*outcome$Std..Error\n",
    "outcome$CV95 <- outcome$Estimate + 1.960*outcome$Std..Error\n",
    "outcome"
   ]
  },
  {
   "cell_type": "code",
   "execution_count": 141,
   "id": "799ad53d-5dda-4d66-b554-59e785ce143d",
   "metadata": {},
   "outputs": [],
   "source": [
    "library(\"dplyr\")"
   ]
  },
  {
   "cell_type": "code",
   "execution_count": 143,
   "id": "cf5bb3da-66e3-4638-a977-8caec33593a0",
   "metadata": {},
   "outputs": [
    {
     "data": {
      "text/html": [
       "TRUE"
      ],
      "text/latex": [
       "TRUE"
      ],
      "text/markdown": [
       "TRUE"
      ],
      "text/plain": [
       "[1] TRUE"
      ]
     },
     "metadata": {},
     "output_type": "display_data"
    },
    {
     "data": {
      "text/html": [
       "FALSE"
      ],
      "text/latex": [
       "FALSE"
      ],
      "text/markdown": [
       "FALSE"
      ],
      "text/plain": [
       "[1] FALSE"
      ]
     },
     "metadata": {},
     "output_type": "display_data"
    },
    {
     "data": {
      "text/html": [
       "TRUE"
      ],
      "text/latex": [
       "TRUE"
      ],
      "text/markdown": [
       "TRUE"
      ],
      "text/plain": [
       "[1] TRUE"
      ]
     },
     "metadata": {},
     "output_type": "display_data"
    }
   ],
   "source": [
    "between(beta[1], outcome$CV80_[1], outcome$CV80[1])\n",
    "between(beta[2], outcome$CV80_[2], outcome$CV80[2])\n",
    "between(beta[3], outcome$CV80_[3], outcome$CV80[3])"
   ]
  },
  {
   "cell_type": "code",
   "execution_count": 145,
   "id": "cd547682-8eea-4fc6-97f0-2534cd223170",
   "metadata": {},
   "outputs": [
    {
     "data": {
      "text/html": [
       "TRUE"
      ],
      "text/latex": [
       "TRUE"
      ],
      "text/markdown": [
       "TRUE"
      ],
      "text/plain": [
       "[1] TRUE"
      ]
     },
     "metadata": {},
     "output_type": "display_data"
    },
    {
     "data": {
      "text/html": [
       "TRUE"
      ],
      "text/latex": [
       "TRUE"
      ],
      "text/markdown": [
       "TRUE"
      ],
      "text/plain": [
       "[1] TRUE"
      ]
     },
     "metadata": {},
     "output_type": "display_data"
    },
    {
     "data": {
      "text/html": [
       "TRUE"
      ],
      "text/latex": [
       "TRUE"
      ],
      "text/markdown": [
       "TRUE"
      ],
      "text/plain": [
       "[1] TRUE"
      ]
     },
     "metadata": {},
     "output_type": "display_data"
    }
   ],
   "source": [
    "between(beta[1], outcome$CV90_[1], outcome$CV90[1])\n",
    "between(beta[2], outcome$CV90_[2], outcome$CV90[2])\n",
    "between(beta[3], outcome$CV90_[3], outcome$CV90[3])"
   ]
  },
  {
   "cell_type": "code",
   "execution_count": 146,
   "id": "6719f199-4d8a-403f-920a-ae799a01fa07",
   "metadata": {},
   "outputs": [
    {
     "data": {
      "text/html": [
       "TRUE"
      ],
      "text/latex": [
       "TRUE"
      ],
      "text/markdown": [
       "TRUE"
      ],
      "text/plain": [
       "[1] TRUE"
      ]
     },
     "metadata": {},
     "output_type": "display_data"
    },
    {
     "data": {
      "text/html": [
       "TRUE"
      ],
      "text/latex": [
       "TRUE"
      ],
      "text/markdown": [
       "TRUE"
      ],
      "text/plain": [
       "[1] TRUE"
      ]
     },
     "metadata": {},
     "output_type": "display_data"
    },
    {
     "data": {
      "text/html": [
       "TRUE"
      ],
      "text/latex": [
       "TRUE"
      ],
      "text/markdown": [
       "TRUE"
      ],
      "text/plain": [
       "[1] TRUE"
      ]
     },
     "metadata": {},
     "output_type": "display_data"
    }
   ],
   "source": [
    "between(beta[1], outcome$CV95_[1], outcome$CV95[1])\n",
    "between(beta[2], outcome$CV95_[2], outcome$CV95[2])\n",
    "between(beta[3], outcome$CV95_[3], outcome$CV95[3])"
   ]
  },
  {
   "cell_type": "code",
   "execution_count": 147,
   "id": "fc08781d-a3c7-4c23-aa82-63d798121874",
   "metadata": {},
   "outputs": [
    {
     "data": {
      "text/html": [
       "<strong>1:</strong> -0.118351849116241"
      ],
      "text/latex": [
       "\\textbf{1:} -0.118351849116241"
      ],
      "text/markdown": [
       "**1:** -0.118351849116241"
      ],
      "text/plain": [
       "         1 \n",
       "-0.1183518 "
      ]
     },
     "metadata": {},
     "output_type": "display_data"
    }
   ],
   "source": [
    "prediction <- predict(glm.output, newdata = data.frame(factor=TRUE, measure=4))\n",
    "prediction"
   ]
  },
  {
   "cell_type": "code",
   "execution_count": 149,
   "id": "9d6fd38c-3926-44e7-835e-15e3c9d815be",
   "metadata": {},
   "outputs": [
    {
     "data": {
      "text/html": [
       "1"
      ],
      "text/latex": [
       "1"
      ],
      "text/markdown": [
       "1"
      ],
      "text/plain": [
       "[1] 1"
      ]
     },
     "metadata": {},
     "output_type": "display_data"
    }
   ],
   "source": [
    "beta <- c(-1, -1, 1/2)\n",
    "\n",
    "lambda <- exp(beta[1] + beta[2]*1 + beta[3]*4)\n",
    "\n",
    "lambda"
   ]
  },
  {
   "cell_type": "code",
   "execution_count": null,
   "id": "2546d587-8270-4588-9285-4bdf8e8f9bd0",
   "metadata": {},
   "outputs": [],
   "source": []
  }
 ],
 "metadata": {
  "kernelspec": {
   "display_name": "R",
   "language": "R",
   "name": "ir"
  },
  "language_info": {
   "codemirror_mode": "r",
   "file_extension": ".r",
   "mimetype": "text/x-r-source",
   "name": "R",
   "pygments_lexer": "r",
   "version": "3.6.1"
  }
 },
 "nbformat": 4,
 "nbformat_minor": 5
}
