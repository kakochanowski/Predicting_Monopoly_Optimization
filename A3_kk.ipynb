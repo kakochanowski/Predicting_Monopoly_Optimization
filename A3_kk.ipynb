{
 "cells": [
  {
   "cell_type": "code",
   "execution_count": 126,
   "id": "bb9432b0-fc2f-469b-821b-58d94624e00d",
   "metadata": {},
   "outputs": [],
   "source": [
    "Ndata <- 50\n",
    "\n",
    "delta <- ifelse(runif(Ndata) < 0.4, 0, 1)\n",
    "\n",
    "x.1 <- rchisq(Ndata, df = 4)\n",
    "x.2 <- rchisq(Ndata, df = 2)\n",
    "\n",
    "x <- ifelse(delta == 1, x.1, x.2)\n",
    "\n",
    "beta <- c(-1, -1, 1/2)\n",
    "\n",
    "lambda <- exp(beta[1] + beta[2]*delta + beta[3]*x)\n",
    "\n",
    "generateY <- function(lambda.i) rpois(1, lambda = lambda.i)\n",
    "\n",
    "y <- sapply(lambda, generateY)\n",
    "\n",
    "data.Pois <- data.frame(\"N\" = y, factor = ifelse(delta == 1, TRUE, FALSE), measure = x)\n",
    "glm.output <- glm(N ~ factor + measure, data=data.Pois, family=\"poisson\")"
   ]
  },
  {
   "cell_type": "code",
   "execution_count": 127,
   "id": "81a1e3d3",
   "metadata": {},
   "outputs": [],
   "source": [
    "# function that generates random draw for data of specified length\n",
    "random_draw <- function(ndata) {\n",
    "  gen_y <- data.frame()\n",
    "  n = ndata\n",
    "  delta <- ifelse(runif(n) < 0.4, 0, 1)\n",
    "  beta <- c(-1, -1, 1/2)\n",
    "  x.1 <- rchisq(n, df = 4)\n",
    "  x.2 <- rchisq(n, df = 2)\n",
    "  x <- ifelse(delta == 1, x.1, x.2)\n",
    "  lambda <- exp(beta[1] + beta[2]*delta + beta[3]*x)\n",
    "  df <- as.data.frame(cbind(lambda, delta, x))\n",
    "  for (value in lambda) {\n",
    "    Y <- rpois(1, lambda = value)\n",
    "    gen_y <- rbind(gen_y, Y) \n",
    "  }\n",
    "  df <- as.data.frame(cbind(df, gen_y))\n",
    "  df\n",
    "}"
   ]
  },
  {
   "cell_type": "code",
   "execution_count": 122,
   "id": "7869e3e8",
   "metadata": {},
   "outputs": [],
   "source": [
    "# function that conducts a GLM estimate for each draw and constructs confidence intervals for parameters and transformation\n",
    "estimate <- function(n){\n",
    "    datasize = n\n",
    "    data = random_draw(datasize)\n",
    "    finaldata = as.data.frame(data)\n",
    "    y = finaldata[,4]\n",
    "    delta = finaldata[,2]\n",
    "    x = finaldata[,3]\n",
    "    data.pois <- data.frame(outcome = y, factor = ifelse(delta == 1, TRUE, FALSE), measure = x)\n",
    "    glm.output <- glm(outcome ~ factor + measure, data = data.pois, family=\"poisson\")\n",
    "    summary(glm.output)\n",
    "}\n"
   ]
  },
  {
   "cell_type": "code",
   "execution_count": 125,
   "id": "d13dfda0",
   "metadata": {},
   "outputs": [
    {
     "data": {
      "text/plain": [
       "\n",
       "Call:\n",
       "glm(formula = outcome ~ factor + measure, family = \"poisson\", \n",
       "    data = data.pois)\n",
       "\n",
       "Deviance Residuals: \n",
       "    Min       1Q   Median       3Q      Max  \n",
       "-2.8138  -0.9559  -0.4219   0.5904   2.6988  \n",
       "\n",
       "Coefficients:\n",
       "             Estimate Std. Error z value Pr(>|z|)    \n",
       "(Intercept) -1.024126   0.040722  -25.15   <2e-16 ***\n",
       "factorTRUE  -0.936643   0.049936  -18.76   <2e-16 ***\n",
       "measure      0.496601   0.003151  157.62   <2e-16 ***\n",
       "---\n",
       "Signif. codes:  0 '***' 0.001 '**' 0.01 '*' 0.05 '.' 0.1 ' ' 1\n",
       "\n",
       "(Dispersion parameter for poisson family taken to be 1)\n",
       "\n",
       "    Null deviance: 29171.23  on 999  degrees of freedom\n",
       "Residual deviance:   995.14  on 997  degrees of freedom\n",
       "AIC: 2607.3\n",
       "\n",
       "Number of Fisher Scoring iterations: 5\n"
      ]
     },
     "metadata": {},
     "output_type": "display_data"
    }
   ],
   "source": [
    "estimate(1000)"
   ]
  }
 ],
 "metadata": {
  "kernelspec": {
   "display_name": "R",
   "language": "R",
   "name": "ir"
  },
  "language_info": {
   "codemirror_mode": "r",
   "file_extension": ".r",
   "mimetype": "text/x-r-source",
   "name": "R",
   "pygments_lexer": "r",
   "version": "3.6.1"
  }
 },
 "nbformat": 4,
 "nbformat_minor": 5
}
