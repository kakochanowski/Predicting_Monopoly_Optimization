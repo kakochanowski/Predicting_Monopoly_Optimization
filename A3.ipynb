{
 "cells": [
  {
   "cell_type": "code",
   "execution_count": 36,
   "id": "687e1d63-4325-4374-8f37-900aea02a824",
   "metadata": {},
   "outputs": [
    {
     "data": {
      "text/html": [
       "1"
      ],
      "text/latex": [
       "1"
      ],
      "text/markdown": [
       "1"
      ],
      "text/plain": [
       "[1] 1"
      ]
     },
     "metadata": {},
     "output_type": "display_data"
    }
   ],
   "source": [
    "delta <- sample(0:1, size=1, prob=c(0.4, 0.6))\n",
    "delta"
   ]
  },
  {
   "cell_type": "code",
   "execution_count": 37,
   "id": "03c21dfd-af7c-4721-be20-3d51ce56c9ae",
   "metadata": {},
   "outputs": [],
   "source": [
    "if (delta == 1) {\n",
    "    x <- rchisq(1, df = 4)\n",
    "} else if (delta == 0) {\n",
    "    x <- rchisq(1, df = 2)\n",
    "}"
   ]
  },
  {
   "cell_type": "code",
   "execution_count": 38,
   "id": "618582dc-766c-4f2d-a521-3ca8b4f5d238",
   "metadata": {},
   "outputs": [],
   "source": [
    "beta0 <- -1\n",
    "beta1 <- -1\n",
    "beta2 <- 1/2"
   ]
  },
  {
   "cell_type": "code",
   "execution_count": 39,
   "id": "4771675c-a106-41e7-9f85-742095d1f1e5",
   "metadata": {},
   "outputs": [
    {
     "data": {
      "text/html": [
       "1.55215344186612"
      ],
      "text/latex": [
       "1.55215344186612"
      ],
      "text/markdown": [
       "1.55215344186612"
      ],
      "text/plain": [
       "[1] 1.552153"
      ]
     },
     "metadata": {},
     "output_type": "display_data"
    }
   ],
   "source": [
    "lambda <- exp(beta0 + beta1*delta + beta2*x)\n",
    "lambda"
   ]
  },
  {
   "cell_type": "code",
   "execution_count": 75,
   "id": "bb9432b0-fc2f-469b-821b-58d94624e00d",
   "metadata": {},
   "outputs": [],
   "source": [
    "Ndata <- 50\n",
    "\n",
    "delta <- ifelse(runif(Ndata) < 0.4, 0, 1)\n",
    "\n",
    "x.1 <- rchisq(Ndata, df = 4)\n",
    "x.2 <- rchisq(Ndata, df = 2)\n",
    "\n",
    "x <- ifelse(delta == 1, x.1, x.2)\n",
    "\n",
    "beta <- c(-1, -1, 1/2)\n",
    "\n",
    "lambda <- exp(beta[1] + beta[2]*delta + beta[3]*x)\n",
    "\n",
    "generateY <- function(lambda.i) rpois(1, lambda = lambda.i)\n",
    "\n",
    "y <- sapply(lambda, generateY)\n",
    "\n",
    "data.Pois <- data.frame(\"N\" = y, factor = ifelse(delta == 1, TRUE, FALSE), measure = x)"
   ]
  },
  {
   "cell_type": "code",
   "execution_count": 76,
   "id": "eceec7c3-69ac-4818-9431-ba79a983ad82",
   "metadata": {},
   "outputs": [
    {
     "data": {
      "text/plain": [
       "\n",
       "Call:\n",
       "glm(formula = y ~ factor + measure, family = \"poisson\", data = data.Pois)\n",
       "\n",
       "Deviance Residuals: \n",
       "    Min       1Q   Median       3Q      Max  \n",
       "-2.1342  -1.0661  -0.5700   0.6245   1.9586  \n",
       "\n",
       "Coefficients:\n",
       "            Estimate Std. Error z value Pr(>|z|)    \n",
       "(Intercept) -0.92416    0.30361  -3.044  0.00234 ** \n",
       "factorTRUE  -0.82936    0.26299  -3.154  0.00161 ** \n",
       "measure      0.46840    0.05927   7.903 2.73e-15 ***\n",
       "---\n",
       "Signif. codes:  0 ‘***’ 0.001 ‘**’ 0.01 ‘*’ 0.05 ‘.’ 0.1 ‘ ’ 1\n",
       "\n",
       "(Dispersion parameter for poisson family taken to be 1)\n",
       "\n",
       "    Null deviance: 124.305  on 49  degrees of freedom\n",
       "Residual deviance:  61.283  on 47  degrees of freedom\n",
       "AIC: 143.34\n",
       "\n",
       "Number of Fisher Scoring iterations: 5\n"
      ]
     },
     "metadata": {},
     "output_type": "display_data"
    }
   ],
   "source": [
    "glm.output <- glm(y ~ factor + measure, data=data.Pois, family=\"poisson\")\n",
    "summary(glm.output)"
   ]
  },
  {
   "cell_type": "code",
   "execution_count": null,
   "id": "e3b8bb87-de57-4904-8e99-87e79f1bc695",
   "metadata": {},
   "outputs": [],
   "source": []
  }
 ],
 "metadata": {
  "kernelspec": {
   "display_name": "R 4.1.0",
   "language": "R",
   "name": "ir40"
  },
  "language_info": {
   "codemirror_mode": "r",
   "file_extension": ".r",
   "mimetype": "text/x-r-source",
   "name": "R",
   "pygments_lexer": "r",
   "version": "4.1.0"
  }
 },
 "nbformat": 4,
 "nbformat_minor": 5
}
